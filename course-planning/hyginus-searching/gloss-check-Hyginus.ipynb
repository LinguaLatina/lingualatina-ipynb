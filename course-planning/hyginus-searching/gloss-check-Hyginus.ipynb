{
 "cells": [
  {
   "cell_type": "markdown",
   "metadata": {},
   "source": [
    "# Gloss passage against Hyginus, *Fabulae*\n",
    "\n",
    "> *Add link here to all the caveats...*\n",
    "\n",
    "\n",
    "### How to use this notebook\n",
    "\n",
    "1. First, run step 1 (e.g., by selecting the cell labelled **Step 1: load everything** and choosing \"Run all below\" from the \"Cell\" menu).  This will be slow, and your mileage may vary depending on how well your connection to different resources on the internet happens to be performing just then.\n",
    "2. Just below the cell labelled **Step 2: highlight this text for glossing**, fill in between quotation marks an argument to the function `highlightThis`.  E.g., to highlight vocabulary not covered `duco` in Hyginus, you could edit that cell to read\n",
    "\n",
    "\n",
    "    `val highlightThis = \"Hercules Busiridem interfecit.\"`\n",
    "    \n",
    "    \n",
    "\n",
    "Then run the cell (e.g., by selecting it, and choosing \"Run cells\" from the \"Cell\" menu)."
   ]
  },
  {
   "cell_type": "markdown",
   "metadata": {},
   "source": [
    "# Step 2: highlight this text for glossing"
   ]
  },
  {
   "cell_type": "code",
   "execution_count": 43,
   "metadata": {},
   "outputs": [
    {
     "data": {
      "text/html": [
       "<h2>Highlight with vocabulary from unit 1</h2><p>Unit 1 includes <strong>36</strong> vocabulary items.<p>Text to highlight: <em>Pater filiam suam Herculi dedit.</em></p><hr/><h2>Highlighted view</h2><h3>Key</h3><ul><li style=\"color:rgb(24, 23, 162);\">In vocab list</li>\n",
       "<li  style=\"text-decoration-line: underline; text-decoration-style: double; text-decoration-color:rgb(159, 69, 17);\">Not analyzed</li>\n",
       "<li  style=\"text-decoration-line: underline; text-decoration-style: wavy; text-decoration-color: silver;\">Mutiple analyses</li></ul><p><span style =\"color:rgb(24, 23, 162); text-decoration-line: underline; text-decoration-style: wavy; text-decoration-color: silver; \">Pater</span> <span style =\"color:rgb(24, 23, 162);  \">filiam</span> suam <span style =\" text-decoration-line: underline; text-decoration-style: wavy; text-decoration-color: silver; \">Herculi</span> dedit."
      ]
     },
     "metadata": {},
     "output_type": "display_data"
    },
    {
     "data": {
      "text/plain": [
       "\u001b[36mhighlightThis\u001b[39m: \u001b[32mString\u001b[39m = \u001b[32m\"Pater filiam suam Herculi dedit.\"\u001b[39m\n",
       "\u001b[36mvocabUnit\u001b[39m: \u001b[32mInt\u001b[39m = \u001b[32m1\u001b[39m"
      ]
     },
     "execution_count": 43,
     "metadata": {},
     "output_type": "execute_result"
    }
   ],
   "source": [
    "val highlightThis = \"Pater filiam suam Herculi dedit.\"\n",
    "val vocabUnit = 1\n",
    "highlight(highlightThis, vocabUnit)\n"
   ]
  },
  {
   "cell_type": "markdown",
   "metadata": {},
   "source": [
    "# Step 1: load everything\n"
   ]
  },
  {
   "cell_type": "code",
   "execution_count": null,
   "metadata": {},
   "outputs": [],
   "source": []
  },
  {
   "cell_type": "code",
   "execution_count": null,
   "metadata": {},
   "outputs": [],
   "source": [
    "// set up notebook to find repository\n",
    "val personalRepo = coursierapi.MavenRepository.of(\"https://dl.bintray.com/neelsmith/maven\")\n",
    "interp.repositories() ++= Seq(personalRepo)"
   ]
  },
  {
   "cell_type": "code",
   "execution_count": null,
   "metadata": {},
   "outputs": [],
   "source": [
    "// ivy imports\n",
    "import $ivy.`edu.holycross.shot::latincorpus:7.0.0-pr5`\n",
    "import $ivy.`edu.holycross.shot.mid::orthography:2.1.0`\n",
    "import $ivy.`edu.holycross.shot::latphone:3.0.0`\n",
    "import $ivy.`edu.holycross.shot.cite::xcite:4.3.0`\n",
    "import $ivy.`edu.holycross.shot::ohco2:10.20.4`"
   ]
  },
  {
   "cell_type": "code",
   "execution_count": null,
   "metadata": {},
   "outputs": [],
   "source": [
    "import edu.holycross.shot.latincorpus._\n",
    "import edu.holycross.shot.latin._\n",
    "import edu.holycross.shot.mid.orthography._\n",
    "import edu.holycross.shot.cite._\n",
    "import edu.holycross.shot.ohco2._\n",
    "import scala.io.Source"
   ]
  },
  {
   "cell_type": "code",
   "execution_count": null,
   "metadata": {},
   "outputs": [],
   "source": [
    "val hyginusUrl = \"https://raw.githubusercontent.com/LinguaLatina/analysis/master/data/hyginus/hyginus-latc.cex\"\n",
    "val hyginus = LatinCorpus.fromUrl(hyginusUrl)"
   ]
  },
  {
   "cell_type": "code",
   "execution_count": null,
   "metadata": {},
   "outputs": [],
   "source": [
    "// Settings:\n",
    "val lat23orthogaphy: MidOrthography = Latin23Alphabet\n",
    "val fstUrl = \"https://raw.githubusercontent.com/LinguaLatina/analysis/master/data/hyginus/hyginus-fst.txt\"\n",
    "val fstLines = Source.fromURL(fstUrl).getLines.toVector\n",
    "\n",
    "\n",
    "val vocabFiles : Map[Int, String] = Map(\n",
    "  1 -> \"https://raw.githubusercontent.com/LinguaLatina/textbook/master/vocablists/01-nouns-adjs-pron.cex\"\n",
    ")\n",
    "\n",
    "def vocabForUnit(vocabUnit: Int): Vector[String] = {\n",
    "  val lines = Source.fromURL(vocabFiles(vocabUnit))\n",
    "  val lexemeIds = lines.getLines.toVector.tail.filter(_.nonEmpty).map( ln => {\n",
    "    val columns = ln.split(\"#\")\n",
    "    val idParts = columns.head.split(\":\")\n",
    "    idParts.head\n",
    "  })\n",
    "  lexemeIds\n",
    "}\n"
   ]
  },
  {
   "cell_type": "markdown",
   "metadata": {},
   "source": [
    "## CSS styling\n",
    "\n",
    "If you want to define your own visual styling for highlighting ambiguous tokens, unanalyzed tokens, and tokens from the chapter vocabulary, you can edit the following cell, then rerun both of the cells below this (e.g., select this cell and choose \"Run all below\" from the \"Cell\" menu). \n",
    "\n",
    "Your new styling will then be used the next time you run **Step 2: highlight this text for glossing**.\n"
   ]
  },
  {
   "cell_type": "code",
   "execution_count": null,
   "metadata": {},
   "outputs": [],
   "source": [
    "// CSS definitions\n",
    "\n",
    "// CSS styling for tokens with multiple analyses\n",
    "val ambiguousCss = \"text-decoration-line: underline; text-decoration-style: wavy; text-decoration-color: silver;\"\n",
    "// CSS styling for tokens with no analyses\n",
    "val unanalyzedCss = \"text-decoration-line: underline; text-decoration-style: double; text-decoration-color:rgb(159, 69, 17);\"\n",
    "// CSS styling for tokens in vocabulary list for this unit\n",
    "val vocabCss = \"color:rgb(24, 23, 162);\""
   ]
  },
  {
   "cell_type": "code",
   "execution_count": null,
   "metadata": {},
   "outputs": [],
   "source": [
    "// The action:\n",
    " val bullets = Vector(\n",
    "   \"<li style=\\\"\" + vocabCss + \"\\\">In vocab list</li>\",\n",
    "   \"<li  style=\\\"\" + unanalyzedCss + \"\\\">Not analyzed</li>\",\n",
    "   \"<li  style=\\\"\" + ambiguousCss + \"\\\">Mutiple analyses</li>\"\n",
    "   )\n",
    "val styleKey = \"<h3>Key</h3><ul>\" + bullets.mkString(\"\\n\") + \"</ul>\"\n",
    "       \n",
    "\n",
    "\n",
    "def highlight(txt: String, vocabUnit: Int) = {\n",
    "    if (! vocabFiles.keySet.contains(vocabUnit)) {\n",
    "      Html(\"Sorry, but currently only have vocabulary lists for these units:  \" + vocabFiles.keySet.toVector.sorted.mkString(\", \"))\n",
    "\n",
    "    } else {\n",
    "      try {\n",
    "        val vocab = vocabForUnit(vocabUnit)\n",
    "        val highlighter = LexemesHighlighter(vocab, vocabCss)\n",
    "        // make an ohco2 Corpus in order to tokenize text.\n",
    "        val fakeUrn = CtsUrn(\"urn:cts:fake:exercise.v1:1\")\n",
    "        val citable = CitableNode(fakeUrn, txt)\n",
    "        val exercise = Corpus(Vector(citable))\n",
    "        val latc = LatinCorpus.fromFstLines(exercise,lat23orthogaphy, fstLines, strict=false)\n",
    "\n",
    "        val formatted = StringFormatter.tokensLexemeStyled(\n",
    "          latc.tokens,\n",
    "          highlighter,\n",
    "          vocab,\n",
    "          formAmbiguityStyle = ambiguousCss, \n",
    "          lexicalAmbiguityStyle = \"\", \n",
    "          unanalyzedStyle = unanalyzedCss\n",
    "        )        \n",
    "        \n",
    "        val header = s\"<h2>Highlight with vocabulary from unit ${vocabUnit}</h2>\"\n",
    "        val nb = s\"<p>Unit ${vocabUnit} includes <strong>${vocab.size}</strong> vocabulary items.\"\n",
    "        val prefatoryPara = \"<p>Text to highlight: <em>\" + txt + \"</em></p>\"\n",
    "        \n",
    "        Html(header + nb + prefatoryPara +\n",
    "             s\"<hr/><h2>Highlighted view</h2>${styleKey}<p>${formatted}\")\n",
    "        \n",
    "        } catch {\n",
    "         case nope: java.util.NoSuchElementException => {\n",
    "         Html(\"<p><em>\" + txt + \"</em> : something went wrong. :-(</p>\")\n",
    "         }\n",
    "       }\n",
    "      }\n",
    "}"
   ]
  },
  {
   "cell_type": "code",
   "execution_count": null,
   "metadata": {},
   "outputs": [],
   "source": []
  }
 ],
 "metadata": {
  "kernelspec": {
   "display_name": "Scala (2.12)",
   "language": "scala",
   "name": "scala212"
  },
  "language_info": {
   "codemirror_mode": "text/x-scala",
   "file_extension": ".scala",
   "mimetype": "text/x-scala",
   "name": "scala",
   "nbconvert_exporter": "script",
   "version": "2.12.10"
  },
  "nteract": {
   "version": "0.24.0"
  }
 },
 "nbformat": 4,
 "nbformat_minor": 4
}
