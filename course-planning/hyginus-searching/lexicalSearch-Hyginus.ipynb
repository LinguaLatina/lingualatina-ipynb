{
 "cells": [
  {
   "cell_type": "markdown",
   "metadata": {},
   "source": [
    "# Lexical search of Hyginus, *Fabulae*\n",
    "\n",
    "> *Add link here to all the caveats...*\n",
    "\n",
    "\n",
    "### How to use this notebook\n",
    "\n",
    "1. First, run step 1 (e.g., by selecting the cell labelled **Step 1: load everything** and choosing \"Run all below\" from the \"Cell\" menu).  This will be slow, and your mileage may vary depending on how well your connection to different resources on the internet happens to be performing just then.\n",
    "2. Just below the cell labelled **Step 2: search by example**, fill in between quotation marks an argument to the function `moreLikeThis`.  E.g., to find all forms of `duco` in Hyginus, you could edit that cell to read\n",
    "\n",
    "    `moreLikeThis(\"duxit\")`\n",
    "\n",
    "Then run the cell (e.g., by selecting it, and choosing \"Run cells\" from the \"Cell\" menu)."
   ]
  },
  {
   "cell_type": "markdown",
   "metadata": {},
   "source": [
    "# Step 2: search by example"
   ]
  },
  {
   "cell_type": "code",
   "execution_count": 31,
   "metadata": {},
   "outputs": [
    {
     "data": {
      "text/html": [
       "<h2><em>appellatur</em> matched 1 lexeme(s): ls.n3134:appello2</h2><p>For ls.n3134, matched <strong>54</strong> citable passages.</p><p> See <a href=\"http://folio2.furman.edu/lewis-short/index.html?urn=urn:cite2:hmt:ls.markdown:n3134\">Lewis-Short entry</a></p><ol><li>at Ino cum Melicerte filio suo in mare se praecipitauit quam Liber Leucotheam uoluit appellari nos Matrem Matutam dicimus Melicerten autem deum Palaemonem quem nos Portunum dicimus huic quinto quoque anno ludi gymnici fiunt qui appellantur</li>\n",
       "<li>ita dicitur esse factum quo cum ascendissent et aries eos in pelagus detulisset Helle de ariete decidit ex quo Hellespontum pelagus est appellatum Phrixum autem Colchos detulit ibi matris praeceptis arietem immolauit eius inauratam in templo Martis posuit quam seruante dracone Iason Aesonis et Alcimedis filius dicitur petisse</li>\n",
       "<li>quos pastores pro suis educarunt et appellarunt Zeton alterum uero Amphionem id est quoniam in biuio eum edidit</li>\n",
       "<li>qui postquam matrem agnouerunt Dircen ad taurum indomitum deligatam uita priuarunt ex cuius corpore in monte Cithaerone fons est natus qui Dircaeus est appellatus beneficio Liberi cuius baccha fuerat</li>\n",
       "<li>Ancaeus alter Neptuni filius matre Althaea Thestii filia ab Imbraso insula quae Parthenia appellata est nunc autem Samos dicitur Erginus Neptuni filius a Mileto quidam Periclymeni dicunt Orchomenius Meleager Oenei et Althaeae Thestii filiae filius quidam Martis putant Calydonius</li>\n",
       "<li>Zetes et Calais Aquilonis uenti et Orithyiae Erechthei filiae filii hi capita pennatos habuisse feruntur caeruleos qui peruio aere usi sunt hi aues Harpyias tres Thaumantis et Ozomenes filias Aellopoda Celaeno Ocypeten fugauerunt a Phineo Agenoris filio eodem tempore quo Iasoni comites ad Colchos proficiscebantur quae inhabitabant insulas Strophades in Aegeo mari quae Plotae appellantur hae fuisse dicuntur capitibus gallinaceis pennatae et bracchia humana unguibus magnis gallinaceis pectus aluom humana hi autem Zethes et Calais ab Hercule telis occisi sunt quorum in tumulis superpositi lapides flatibus paternis mouentur hi autem ex Thracia esse dicuntur</li>\n",
       "<li>hi autem omnes Minyae sunt appellati uel quod plurimos eorum filiae Minyae pepererunt uel quod Iasonis mater Clymenes Minyae filiae filia erat sed neque Colchos omnes peruenerunt neque in patriam regressum habuerunt</li>\n",
       "<li>Colchi qui cum Absyrto uenerant timentes Aeetam illic remanserunt condiderunt quod ab Absyrti nomine Absoron appellarunt haec autem insula posita est in Histria contra Polam iuncta insulae cantae</li>\n",
       "<li>qui aditum sibi ita faciebant montem enim Ossam super Pelion posuerunt etiam Pelion Ossa mons appellatur montes construebant qui ab Apolline nacti sunt interfecti</li>\n",
       "<li>Achelous fluuius in omnis figuras se immutabat hic cum Hercule propter Deianirae coniugium cum pugnaret in taurum se conuertit cui Hercules cornu detraxit quod cornu Hesperidibus siue Nymphis donauit quod deae pomis replerunt et cornu copiae appellarunt</li>\n",
       "<li>tunc Hercules Licham qui uestem attulerat rotatum in mare iaculatus est qui quo loco cecidit petra nata est quae Lichas appellatur</li>\n",
       "<li>Minos re cognita Daedalum in custodiam coniecit at Pasiphae eum uinculis liberauit itaque Daedalus pennas sibi et Icaro filio suo fecit et accommodauit et inde auolarunt Icarus altius uolans a sole cera calefacta decidit in mare quod ex eo Icarium pelagus est appellatum Daedalus peruolauit ad regem Cocalum in insulam Siciliam</li>\n",
       "<li>quod cum amissis sociis Aeacus prae paucitate hominum morari non posset formicas intuens petiit ab Ioue ut homines in praesidio sibi daret tunc Iuppiter formicas in homines transfigurauit qui Myrmidones sunt appellati quod Graece formicae dicuntur</li>\n",
       "<li>Iouis cum Asterien Titanis filiam amaret illa eum contempsit a quo in auem commutata est quam nos coturnicem dicimus in mare abiecit et ex ea insula est enata quae Ortygia est appellata</li>\n",
       "<li>haec mobilis fuit quo postea Latona ab Aquilone uento delata est iussu Iouis tum cum eam Python oleam tenens Latona peperit Apollinem et Dianam quae insula postea Delos est appellata</li>\n",
       "<li>qui die constituta cum non uenisset illa eo die dicitur nouies ad litus cucurrisse quod ex ea Graece appellatur Phyllis autem ob desiderium Demophoontis spiritum emisit</li>\n",
       "<li>cui parentes cum sepulchrum constituissent arbores ibi sunt natae quae certo tempore Phyllidis mortem lugent quo folia arescunt et diffluunt cuius ex nomine folia Graece sunt appellata</li>\n",
       "<li>Ceyx Hesperi siue Luciferi et Philonidis filius cum in naufragio periisset Alcyone Aeoli et Aegiales filia uxor eius propter amorem ipsa se in mare praecipitauit qui deorum misericordia ambo in aues sunt mutati quae alcyones dicuntur hae aues nidum oua pullos in mare septem diebus faciunt hiberno tempore mare his diebus tranquillum est quos dies nautae alcyonia appellant</li>\n",
       "<li>Pelops cum Hippodamia et Myrtilo domum uictor cum rediret cogitauit sibi opprobrio futurum et Myrtilo fidem praestare noluit in mare praecipitauit a quo Myrtoum pelagus est appellatum Hippodamiam in patriam adduxit suam quod Peloponnesum appellatur ibi ex Hippodamia procreauit Hippalcum Atreum Thyesten</li>\n",
       "<li>Thyesti Pelopis et Hippodamiae filio responsum fuit quem ex filia sua Pelopia procreasset eum fratris fore ultorem quod cum audisset puer est natus quem Pelopia exposuit quem inuentum pastores caprae subdiderunt ad nutriendum Aegisthus est appellatus ideo quod Graece capra aega appellatur</li>\n",
       "<li>quod et ipsum Laomedon fraudauit neque Hesionen reddere uoluit itaque Hercules ad eos nauibus comparatis ut Troiam expugnaret uenit et Laomedontem necauit et Podarci filio eius infanti regnum dedit qui postea Priamus est appellatus</li>\n",
       "<li>Achiuis fuit responsum qui primus litora Troianorum attigisset periturum cum Achiui classes applicuissent ceteris cunctantibus Iolaus Iphicli et Diomedeae filius primus e naui prosiluit qui ab Hectore confestim est interfectus quem cuncti appellarunt Protesilaum quoniam primus ex omnibus perierat</li>\n",
       "<li>Ulixes Hecubam Cissei filiam uel ut alii auctores dicunt Dymantis Priami uxorem Hectoris matrem in seruitutem cum duceret illa in Hellespontum mare se praecipitauit et canis dicitur facta esse unde et Cyneum est appellatum</li>\n",
       "<li>et Euryclia nutrix ipsius dum pedes ei lauat ex cicatrice Ulixem esse cognouit postea procos Minerua adiutrice cum Telemacho filio et duobus seruis interfecit sagittis Scholium Deioneus genuit Cephalum Cephalus Arcesium Arcesius Laertem Laertes Ulixem Ulixes ex Circe Telegonum ex Penelope Telemachum Telegonus ex Penelope Ulixis coniuge Italum qui Italiam ex suo nomine appellauit e Telemacho Latinus qui Latinam linguam ex suo nomine cognominauit</li>\n",
       "<li>qui deorum uoluntate in astrorum numerum sunt relati Erigone signum quam nos Iustitiam appellamus Icarius Arcturus in sideribus est dictus canis autem Maera Canicula</li>\n",
       "<li>qui ut uiderunt timentes in mare se praecipitauerunt quod et in mari in aliud monstrum transfigurauit nam quisquis se praecipitauerat in delphini effigiem transfiguratus est unde delphini Tyrrheni sunt appellati et mare Tyrrhenum est dictum</li>\n",
       "<li>qui Graece Curetes sunt appellati alii Corybantes dicunt hi autem Lares appellantur</li>\n",
       "<li>at Neptunus insulam Ortygiam in superiorem partem rettulit quae postea insula Delos est appellata ibi Latona oleam tenens parit Apollinem et Dianam quibus sagittas dedit donum</li>\n",
       "<li>at Iuno formidinem ei misit cuius timore exagitatam coegit eam ut se in mare praecipitaret quod mare Ionium est appellatum inde in Scythiam tranauit unde Bosporum fines sunt dictae inde in Aegyptum ubi parit Epaphum</li>\n",
       "<li>Iuppiter Epaphum quem ex Io procreauerat Aegypto oppida communire regnare iussit is oppidum primum Memphim et alia plura constituit et ex Cassiopia uxore procreauit filiam Libyen a qua terra est appellata</li>\n",
       "<li>itaque Apollo uictum Marsyan ad arborem religatum Scythae tradidit qui eum membratim cute separauit reliquum corpus discipulo Olympo sepulturae tradidit e cuius sanguine flumen Marsya est appellatum</li>\n",
       "<li>illa autem instigata petit ab Ioue et fulmine est icta ex cuius utero Liberum exuit et Nyso dedit nutriendum unde Dionysus est appellatus et bimater est dictus</li>\n",
       "<li>qui cum quaereret in solitudine quid faceret a puella illa se aquatum missam esse dixit a patre quam Neptunus compressit pro quo beneficium ei tribuit eius fuscinam de petra educere quae cum eduxisset et tres silani sunt secuti qui ex Amymones nomine Amymonius fons appellatus est ex qua compressione natus est Nauplius hic autem fons Lernaeus est postea appellatus</li>\n",
       "<li>refixit et donauit Abanti consecrauit qui quinto quoque anno aguntur qui appellantur e quibus ludis cursoribus corona non datur sed clipeus</li>\n",
       "<li>Callisto Lycaonis filia ursa dicitur facta esse ob iram Iunonis quod cum Ioue concubuit postea Iouis in stellarum numero rettulit quae Septentrio appellatur quod signum loco non mouetur neque occidit Tethys enim Oceani uxor nutrix Iunonis prohibet eam in oceanum occidere</li>\n",
       "<li>haec igitur ursa a Graecis Helice appellatur haec habet stellas in capite septem non claras in utraque aure duas in armo unam in pectore claram unam in pede priore unam in extrema coxa claram unam in femine posteriori duas in pede extremo duas in caude tres omnis numero uiginti</li>\n",
       "<li>Phoenix in Africam est profectus remansit inde Afri Poeni sunt appellati Cilix suo nomine Ciliciae nomen indidit</li>\n",
       "<li>qui inter se pugnarunt ex quibus quinque superfuerunt id est Chthonius Udaeus Hyperenor Pelorus et Echion ex boue autem quem secutus fuerat Boeotia est appellata</li>\n",
       "<li>itaque Semele petiit ab Ioue ut ita ueniret ad se qua re impetrata Iouis cum fulmine et tonitribus uenit et Semele conflagrauit ex utero eius Liber est natus quem Mercurius ab igne ereptum Nyso dedit educandum et Graece Dionysus est appellatus</li>\n",
       "<li>quae nymphae Dodonides uocantur Naides uocant quarum nomina Cisseis Nysa Erato Eriphia Bromie Polyhymno hae in monte Nysa munere alumni potitae sunt qui Medeam rogauerat et deposita senectute in iuuenes mutatae sunt postea inter sidera Hyades appellantur</li>\n",
       "<li>feminae iugariae Bronte quae nos tonitrua appellamus Sterope quae fulgitrua huic rei auctor est Eumelus Corinthius</li>\n",
       "<li>cum iam fame cruciaretur petit a Libero ut sibi speciosum donum eriperet quem Liber iussit in flumine Pactolo se abluere cuius corpus aquam cum tetigisset facta est colore aureo quod flumen nunc Chrysorrhoas appellatur in Lydia</li>\n",
       "<li>ex his quinque primae inter sidera relatae locum habent inter cornua Tauri Phaesyla Ambrosia Coronis Eudora Polyxo quae a fratris nomine appellantur Hyades easdem Latine Suculas uocant</li>\n",
       "<li>ob rem de choro sororum expulsa maerens crinem solutum gerit quae cometes appellatur siue longodes quia in longitudinem producitur siue xiphias quia gladii mucronis effigiem producit ea autem stella luctum portendit</li>\n",
       "<li>In Euphraten flumen de caelo ouum mira magnitudine cecidisse dicitur quod pisces ad ripam euoluerunt super quod columbae consederunt et excalfactum exclusisse quae postea dea Syria est appellata ea iustitia et probitate cum ceteros exsuperasset et ab Ioue optione data pisces in astrorum numerum relati sunt et ob id Syri pisces et columbas ex deorum numero habentes non edunt</li>\n",
       "<li>Perseus Iouis et Danaes filius in stellas receptus Arcas Iouis et Callisto filius in stellas relatus Ariadnen Liber pater Liberam appellauit Minois et Pasiphaes filiam</li>\n",
       "<li>Aegeus Neptuni filius in mare se praecipitauit unde Aegeum pelagus est dictum Euenus Herculis filius in flumen Lycormam se praecipitauit quod nunc Chrysorrhoas appellatur Aiax Telamonis filius ipse se interfecit propter armorum iudicium</li>\n",
       "<li>Alcestis Peliae filia propter Admetum coniugem Theseus Aegei filius propter Pirithoum Hippolytus Thesei filius uoluntate Dianae qui postea est appellatus Orpheus Oeagri filius propter Eurydicen coniugem suam</li>\n",
       "<li>sexto autem iterum Argis quos fecit Lynceus Aegypti filius Iunoni Argiuae qui appellantur quibus ludis qui uicit accipit pro corona clipeum ideo quod Abas Lyncei et Hypermestrae filius nuntiauit Danaum parentibus perisse cui Lynceus de templo Iunonis Argiuae detraxit clipeum quod Danaus in iuuenta gesserat et Iunoni sacrauerat et Abanti filio muneri dedit</li>\n",
       "<li>his quoque ludis pythaules qui Pythia cantauerunt septem habuit palliatos qui uoce cantauerunt unde postea appellatus est choraules</li>\n",
       "<li>Belona prima acum repperit quae Graece appellatur</li>\n",
       "<li>Iouis in India Thebas Thebaidos nomine nutricis suae quae hecatompylae appellantur ideo quod centum portas habent</li>\n",
       "<li>Minerua in Chalcide Athenas quas ex suo nomine appellauit Epaphus Iouis filius in Aegypto Memphim Arcas Iouis filius in Arcadia Trapezunta</li>\n",
       "<li>Camirus Solis filius Camiram Liber in India Hammonem Ephyre nympha Oceani filia Ephyren quam postea Corinthum appellarunt</li></ol>"
      ]
     },
     "metadata": {},
     "output_type": "display_data"
    }
   ],
   "source": [
    "moreLikeThis(\"appellatur\")"
   ]
  },
  {
   "cell_type": "markdown",
   "metadata": {},
   "source": [
    "# Step 1: load everything\n"
   ]
  },
  {
   "cell_type": "code",
   "execution_count": 10,
   "metadata": {},
   "outputs": [
    {
     "data": {
      "text/plain": [
       "\u001b[36mpersonalRepo\u001b[39m: \u001b[32mcoursierapi\u001b[39m.\u001b[32mMavenRepository\u001b[39m = MavenRepository(https://dl.bintray.com/neelsmith/maven)"
      ]
     },
     "execution_count": 10,
     "metadata": {},
     "output_type": "execute_result"
    }
   ],
   "source": [
    "// set up notebook to find repository\n",
    "val personalRepo = coursierapi.MavenRepository.of(\"https://dl.bintray.com/neelsmith/maven\")\n",
    "interp.repositories() ++= Seq(personalRepo)"
   ]
  },
  {
   "cell_type": "code",
   "execution_count": 11,
   "metadata": {},
   "outputs": [
    {
     "data": {
      "text/plain": [
       "\u001b[32mimport \u001b[39m\u001b[36m$ivy.$                                          \u001b[39m"
      ]
     },
     "execution_count": 11,
     "metadata": {},
     "output_type": "execute_result"
    }
   ],
   "source": [
    "// ivy imports\n",
    "import $ivy.`edu.holycross.shot::latincorpus:7.0.0-pr3`"
   ]
  },
  {
   "cell_type": "code",
   "execution_count": 12,
   "metadata": {},
   "outputs": [
    {
     "data": {
      "text/plain": [
       "\u001b[32mimport \u001b[39m\u001b[36medu.holycross.shot.latincorpus._\u001b[39m"
      ]
     },
     "execution_count": 12,
     "metadata": {},
     "output_type": "execute_result"
    }
   ],
   "source": [
    "import edu.holycross.shot.latincorpus._"
   ]
  },
  {
   "cell_type": "code",
   "execution_count": 13,
   "metadata": {
    "collapsed": true
   },
   "outputs": [
    {
     "data": {
      "text/plain": [
       "\u001b[36mhyginusUrl\u001b[39m: \u001b[32mString\u001b[39m = \u001b[32m\"https://raw.githubusercontent.com/LinguaLatina/analysis/master/data/hyginus/hyginus-latc.cex\"\u001b[39m\n",
       "\u001b[36mhyginus\u001b[39m: \u001b[32mLatinCorpus\u001b[39m = \u001b[33mLatinCorpus\u001b[39m(\n",
       "  \u001b[33mVector\u001b[39m(\n",
       "    \u001b[33mLatinParsedToken\u001b[39m(\n",
       "      \u001b[33mCitableNode\u001b[39m(\n",
       "        \u001b[33mCtsUrn\u001b[39m(\u001b[32m\"urn:cts:latinLit:stoa1263.stoa001.hc_tkns:t.1.0\"\u001b[39m),\n",
       "        \u001b[32m\"EXCERPTA\"\u001b[39m\n",
       "      ),\n",
       "      LexicalToken,\n",
       "      \u001b[33mVector\u001b[39m()\n",
       "    ),\n",
       "    \u001b[33mLatinParsedToken\u001b[39m(\n",
       "      \u001b[33mCitableNode\u001b[39m(\n",
       "        \u001b[33mCtsUrn\u001b[39m(\u001b[32m\"urn:cts:latinLit:stoa1263.stoa001.hc_tkns:t.1.1\"\u001b[39m),\n",
       "        \u001b[32m\"EX\"\u001b[39m\n",
       "      ),\n",
       "      LexicalToken,\n",
       "      \u001b[33mVector\u001b[39m(\u001b[33mIndeclinableForm\u001b[39m(\u001b[32m\"ls.n16519\"\u001b[39m, \u001b[32m\"\"\u001b[39m, \u001b[32m\"\"\u001b[39m, Conjunction))\n",
       "    ),\n",
       "    \u001b[33mLatinParsedToken\u001b[39m(\n",
       "      \u001b[33mCitableNode\u001b[39m(\n",
       "        \u001b[33mCtsUrn\u001b[39m(\u001b[32m\"urn:cts:latinLit:stoa1263.stoa001.hc_tkns:t.1.2\"\u001b[39m),\n",
       "        \u001b[32m\"HYGINI\"\u001b[39m\n",
       "      ),\n",
       "      LexicalToken,\n",
       "      \u001b[33mVector\u001b[39m()\n",
       "    ),\n",
       "    \u001b[33mLatinParsedToken\u001b[39m(\n",
       "      \u001b[33mCitableNode\u001b[39m(\n",
       "        \u001b[33mCtsUrn\u001b[39m(\u001b[32m\"urn:cts:latinLit:stoa1263.stoa001.hc_tkns:t.1.3\"\u001b[39m),\n",
       "        \u001b[32m\"GENEALOGIIS\"\u001b[39m\n",
       "      ),\n",
       "      LexicalToken,\n",
       "      \u001b[33mVector\u001b[39m()\n",
       "    ),\n",
       "    \u001b[33mLatinParsedToken\u001b[39m(\n",
       "      \u001b[33mCitableNode\u001b[39m(\n",
       "        \u001b[33mCtsUrn\u001b[39m(\u001b[32m\"urn:cts:latinLit:stoa1263.stoa001.hc_tkns:t.1.3_0\"\u001b[39m),\n",
       "        \u001b[32m\",\"\u001b[39m\n",
       "      ),\n",
       "..."
      ]
     },
     "execution_count": 13,
     "metadata": {},
     "output_type": "execute_result"
    }
   ],
   "source": [
    "val hyginusUrl = \"https://raw.githubusercontent.com/LinguaLatina/analysis/master/data/hyginus/hyginus-latc.cex\"\n",
    "val hyginus = LatinCorpus.fromUrl(hyginusUrl)"
   ]
  },
  {
   "cell_type": "code",
   "execution_count": 30,
   "metadata": {},
   "outputs": [
    {
     "data": {
      "text/plain": [
       "\u001b[36mlewisShortBase\u001b[39m: \u001b[32mString\u001b[39m = \u001b[32m\"http://folio2.furman.edu/lewis-short/index.html?urn=urn:cite2:hmt:ls.markdown:\"\u001b[39m\n",
       "defined \u001b[32mfunction\u001b[39m \u001b[36mmoreLikeThis\u001b[39m"
      ]
     },
     "execution_count": 30,
     "metadata": {},
     "output_type": "execute_result"
    }
   ],
   "source": [
    "val lewisShortBase = \"http://folio2.furman.edu/lewis-short/index.html?urn=urn:cite2:hmt:ls.markdown:\"\n",
    "\n",
    "def moreLikeThis(s: String) = {\n",
    "    try {\n",
    "        val lexemes = hyginus.tokenLexemeIndex(s)     \n",
    "        val labelledLexemes = hyginus.tokenLabelledLexemeIndex(s)  \n",
    "        val heading = s\"<h2><em>${s}</em> matched ${labelledLexemes.size} lexeme(s): \" + labelledLexemes.mkString(\", \") + \"</h2>\"\n",
    "        \n",
    "        val htmlBody = for (lex <- lexemes) yield{        \n",
    "          val lsId = lex.replaceFirst(\"ls.\", \"\")\n",
    "          val lsUrl =lewisShortBase + lsId\n",
    "          val cns = hyginus.citableUnits.sequences.filter( cn => cn.matchesLexeme(lex))\n",
    "          val para = \"<p>For \" + lex + \", matched <strong>\" + cns.size + \"</strong> citable passages.</p>\" \n",
    "          val xref = \"<p> See <a href=\\\"\" + lsUrl + \"\\\">Lewis-Short entry</a></p>\"\n",
    "          \n",
    "          val bullets = for ((cn) <- cns) yield {\n",
    "            val txt = cn.lexicalText.mkString(\" \")\n",
    "            s\"<li>${txt}</li>\"\n",
    "          }\n",
    "          para + xref + \"<ol>\" + bullets.mkString(\"\\n\") + \"</ol>\"     \n",
    "        }\n",
    "        Html(heading + htmlBody.mkString(\"<br/>\"))\n",
    "        \n",
    "        \n",
    "    } catch {\n",
    "        case nope: java.util.NoSuchElementException => {\n",
    "            Html(\"<p><em>\" + s + \"</em> does not occur in Hyginus.  Please check the form, and try again.</p>\")\n",
    "        }    \n",
    "        \n",
    "        \n",
    "    }\n",
    "\n",
    "}"
   ]
  },
  {
   "cell_type": "code",
   "execution_count": null,
   "metadata": {},
   "outputs": [],
   "source": []
  }
 ],
 "metadata": {
  "kernelspec": {
   "display_name": "Scala (2.12)",
   "language": "scala",
   "name": "scala212"
  },
  "language_info": {
   "codemirror_mode": "text/x-scala",
   "file_extension": ".scala",
   "mimetype": "text/x-scala",
   "name": "scala",
   "nbconvert_exporter": "script",
   "version": "2.12.10"
  },
  "nteract": {
   "version": "0.24.0"
  }
 },
 "nbformat": 4,
 "nbformat_minor": 4
}
