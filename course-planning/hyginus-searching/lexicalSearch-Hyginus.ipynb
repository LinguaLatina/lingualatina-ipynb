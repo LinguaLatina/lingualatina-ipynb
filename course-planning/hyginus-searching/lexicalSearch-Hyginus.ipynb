{
 "cells": [
  {
   "cell_type": "markdown",
   "metadata": {},
   "source": [
    "# Lexical search of Hyginus, *Fabulae*\n",
    "\n",
    "> *Add link here to all the caveats...*\n",
    "\n",
    "\n",
    "### How to use this notebook\n",
    "\n",
    "1. First, run step 1 (e.g., by selecting the cell labelled **Step 1: load everything** and choosing \"Run all below\" from the \"Cell\" menu).  This will be slow, and your mileage may vary depending on how well your connection to different resources on the internet happens to be performing just then.\n",
    "2. Just below the cell labelled **Step 2: search by example**, fill in between quotation marks an argument to the function `moreLikeThis`.  E.g., to find all forms of `duco` in Hyginus, you could edit that cell to read\n",
    "\n",
    "    `moreLikeThis(\"duxit\")`\n",
    "\n",
    "Then run the cell (e.g., by selecting it, and choosing \"Run cells\" from the \"Cell\" menu)."
   ]
  },
  {
   "cell_type": "markdown",
   "metadata": {},
   "source": [
    "# Step 2: search by example"
   ]
  },
  {
   "cell_type": "code",
   "execution_count": null,
   "metadata": {},
   "outputs": [],
   "source": [
    "moreLikeThis(\"duci\")"
   ]
  },
  {
   "cell_type": "markdown",
   "metadata": {},
   "source": [
    "# Step 1: load everything\n"
   ]
  },
  {
   "cell_type": "code",
   "execution_count": null,
   "metadata": {},
   "outputs": [],
   "source": [
    "// set up notebook to find repository\n",
    "val personalRepo = coursierapi.MavenRepository.of(\"https://dl.bintray.com/neelsmith/maven\")\n",
    "interp.repositories() ++= Seq(personalRepo)"
   ]
  },
  {
   "cell_type": "code",
   "execution_count": null,
   "metadata": {},
   "outputs": [],
   "source": [
    "// ivy imports\n",
    "import $ivy.`edu.holycross.shot::latincorpus:7.0.0-pr5`"
   ]
  },
  {
   "cell_type": "code",
   "execution_count": null,
   "metadata": {},
   "outputs": [],
   "source": [
    "import edu.holycross.shot.latincorpus._"
   ]
  },
  {
   "cell_type": "code",
   "execution_count": null,
   "metadata": {},
   "outputs": [],
   "source": [
    "val hyginusUrl = \"https://raw.githubusercontent.com/LinguaLatina/analysis/master/data/hyginus/hyginus-latc.cex\"\n",
    "val hyginus = LatinCorpus.fromUrl(hyginusUrl)"
   ]
  },
  {
   "cell_type": "code",
   "execution_count": null,
   "metadata": {},
   "outputs": [],
   "source": [
    "val lewisShortBase = \"http://folio2.furman.edu/lewis-short/index.html?urn=urn:cite2:hmt:ls.markdown:\"\n",
    "val hyginusPages = \"https://lingualatina.github.io/texts/browsable/hyginus/\"\n",
    "val ambiguousCss = \"text-decoration-line: underline; text-decoration-style: wavy; text-decoration-color: silver;\"\n",
    "\n",
    "def moreLikeThis(s: String) = {\n",
    "    try {\n",
    "        val lexemes = hyginus.tokenLexemeIndex(s)     \n",
    "        val labelledLexemes = hyginus.tokenLabelledLexemeIndex(s)  \n",
    "        val cns = hyginus.citableUnits.sequences.filter( cn => cn.matchesLexeme(lexemes))\n",
    "        val heading = s\"<h2>String <em>${s}</em> matched ${labelledLexemes.size} lexeme(s) in ${cns.size} passages</h2>\" \n",
    "    \n",
    "\n",
    "        val xlinks = for ( zipped <- lexemes.zipWithIndex) yield {\n",
    "          val lex = zipped._1\n",
    "          val idx = zipped._2\n",
    "          val lsId = lex.replaceFirst(\"ls.\", \"\")\n",
    "          val lsUrl =lewisShortBase + lsId\n",
    "          \"<li><a href=\\\"\"  + lsUrl + \"\\\">\"  + labelledLexemes(idx) + \"</a></li>\"\n",
    "        }\n",
    "        val itemsString = xlinks.mkString(\"\\n\")\n",
    "        \n",
    "        val lexList = s\"<ul>${itemsString}</ul>\"\n",
    "      \n",
    "        val highlighter = LexemesHighlighter(lexemes, \"color:rgb(24, 23, 162);\") \n",
    "             \n",
    "        val htmlBody = {\n",
    "          val bullets = for ((cn) <- cns) yield {\n",
    "            val link = cn match {\n",
    "              case citable: LatinCitableUnit => {\n",
    "              val psg = citable.canonicalNode.urn.collapsePassageBy(1)\n",
    "              \"<a style=\\\"color:rgb(159, 69, 17);\\\" href =\\\"\" + hyginusPages + psg.passageComponent + \"/\\\">Hyginus \" + citable.canonicalNode.urn.passageComponent + \"</a>\"\n",
    "              }\n",
    "              case _ => \"\"\n",
    "            }\n",
    "\n",
    "            val ref = cn match {\n",
    "              case citable: LatinCitableUnit => \"<span style=\\\"color:rgb(159, 69, 17);\\\">\" + link + \"</span>\"\n",
    "              case _ => \"\"\n",
    "            }\n",
    "\n",
    "            val txtRaw = cn.lexicalText.mkString(\" \")\n",
    "            val txt = StringFormatter.tokensLexemeStyled(\n",
    "              cn.tokens,\n",
    "              highlighter,\n",
    "              lexemes,\n",
    "              formAmbiguityStyle = \"\", lexicalAmbiguityStyle = ambiguousCss, unanalyzedStyle = \"\"\n",
    "            )\n",
    "            s\"<li>${ref} ${txt}</li>\"\n",
    "          }\n",
    "          \"<h3>Passages</h3><ol>\" + bullets.mkString(\"\\n\") + \"</ol>\"\n",
    "        }\n",
    "        \n",
    "      \n",
    "      \n",
    "        val key = \"<h2>Key</h2><ul>\" + \n",
    "        \"<li style=\\\"color:blue;\\\">matched</li>\" + \n",
    "        \"<li style=\\\"text-decoration-line: underline; text-decoration-style: wavy;text-decoration-color: silver;\\\">multiple lexemes</li>\" +\n",
    "        \"</ul>\"\n",
    "      \n",
    "\n",
    "        Html(key + heading + lexList + htmlBody)\n",
    "        //key + heading + lexList + htmlBody\n",
    "        \n",
    "        \n",
    "    } catch {\n",
    "       case nope: java.util.NoSuchElementException => {\n",
    "       Html(\"<p><em>\" + s + \"</em> does not occur in Hyginus.  Please check the form, and try again.</p>\")\n",
    "       }    \n",
    "    }\n",
    "\n",
    "}\n"
   ]
  },
  {
   "cell_type": "code",
   "execution_count": null,
   "metadata": {},
   "outputs": [],
   "source": []
  }
 ],
 "metadata": {
  "kernelspec": {
   "display_name": "Scala (2.12)",
   "language": "scala",
   "name": "scala212"
  },
  "language_info": {
   "codemirror_mode": "text/x-scala",
   "file_extension": ".scala",
   "mimetype": "text/x-scala",
   "name": "scala",
   "nbconvert_exporter": "script",
   "version": "2.12.10"
  },
  "nteract": {
   "version": "0.24.0"
  }
 },
 "nbformat": 4,
 "nbformat_minor": 4
}
