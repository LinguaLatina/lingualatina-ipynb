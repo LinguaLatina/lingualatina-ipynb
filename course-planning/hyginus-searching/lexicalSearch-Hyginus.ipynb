{
 "cells": [
  {
   "cell_type": "markdown",
   "metadata": {},
   "source": [
    "# Lexical search of Hyginus, *Fabulae*\n",
    "\n",
    "> *Add link here to all the caveats...*\n",
    "\n",
    "\n",
    "### How to use this notebook\n",
    "\n",
    "1. First, run step 1 (e.g., by selecting the cell labelled **Step 1: load everything** and choosing \"Run all below\" from the \"Cell\" menu).  This will be slow, and your mileage may vary depending on how well your connection to different resources on the internet happens to be performing just then.\n",
    "2. Just below the cell labelled **Step 2: search by example**, fill in between quotation marks an argument to the function `moreLikeThis`.  E.g., to find all forms of `duco` in Hyginus, you could edit that cell to read\n",
    "\n",
    "    `moreLikeThis(\"duxit\")`\n",
    "\n",
    "Then run the cell (e.g., by selecting it, and choosing \"Run cells\" from the \"Cell\" menu)."
   ]
  },
  {
   "cell_type": "markdown",
   "metadata": {},
   "source": [
    "# Step 2: search by example"
   ]
  },
  {
   "cell_type": "code",
   "execution_count": 27,
   "metadata": {},
   "outputs": [
    {
     "name": "stdout",
     "output_type": "stream",
     "text": [
      "'A_WORD_OCCURING_IN_TEXT_OF_HYGINUS' does not occur in Hyginus.  Check the form again.\n"
     ]
    }
   ],
   "source": [
    "moreLikeThis(\"A_WORD_OCCURING_IN_TEXT_OF_HYGINUS\")"
   ]
  },
  {
   "cell_type": "markdown",
   "metadata": {},
   "source": [
    "# Step 1: load everything\n"
   ]
  },
  {
   "cell_type": "code",
   "execution_count": 1,
   "metadata": {},
   "outputs": [
    {
     "data": {
      "text/plain": [
       "\u001b[36mpersonalRepo\u001b[39m: \u001b[32mcoursierapi\u001b[39m.\u001b[32mMavenRepository\u001b[39m = MavenRepository(https://dl.bintray.com/neelsmith/maven)"
      ]
     },
     "execution_count": 1,
     "metadata": {},
     "output_type": "execute_result"
    }
   ],
   "source": [
    "// set up notebook to find repository\n",
    "val personalRepo = coursierapi.MavenRepository.of(\"https://dl.bintray.com/neelsmith/maven\")\n",
    "interp.repositories() ++= Seq(personalRepo)"
   ]
  },
  {
   "cell_type": "code",
   "execution_count": 2,
   "metadata": {
    "collapsed": true
   },
   "outputs": [
    {
     "name": "stderr",
     "output_type": "stream",
     "text": [
      "Downloading https://repo1.maven.org/maven2/edu/holycross/shot/latincorpus_2.12/7.0.0-preview/latincorpus_2.12-7.0.0-preview.pom\n",
      "Downloaded https://repo1.maven.org/maven2/edu/holycross/shot/latincorpus_2.12/7.0.0-preview/latincorpus_2.12-7.0.0-preview.pom\n",
      "Downloading https://repo1.maven.org/maven2/edu/holycross/shot/latincorpus_2.12/7.0.0-preview/latincorpus_2.12-7.0.0-preview.pom.sha1\n",
      "Downloaded https://repo1.maven.org/maven2/edu/holycross/shot/latincorpus_2.12/7.0.0-preview/latincorpus_2.12-7.0.0-preview.pom.sha1\n",
      "Downloading https://dl.bintray.com/neelsmith/maven/edu/holycross/shot/latincorpus_2.12/7.0.0-preview/latincorpus_2.12-7.0.0-preview.pom\n",
      "Downloaded https://dl.bintray.com/neelsmith/maven/edu/holycross/shot/latincorpus_2.12/7.0.0-preview/latincorpus_2.12-7.0.0-preview.pom\n",
      "Downloading https://repo1.maven.org/maven2/edu/holycross/shot/seqcomp_2.12/2.2.1/seqcomp_2.12-2.2.1.pom\n",
      "Downloading https://repo1.maven.org/maven2/edu/holycross/shot/mid/orthography_2.12/2.1.0/orthography_2.12-2.1.0.pom\n",
      "Downloading https://repo1.maven.org/maven2/com/github/pathikrit/better-files_2.12/3.5.0/better-files_2.12-3.5.0.pom\n",
      "Downloading https://repo1.maven.org/maven2/edu/holycross/shot/tabulae_2.12/7.0.5/tabulae_2.12-7.0.5.pom\n",
      "Downloading https://repo1.maven.org/maven2/edu/holycross/shot/histoutils_2.12/2.3.0/histoutils_2.12-2.3.0.pom\n",
      "Downloading https://repo1.maven.org/maven2/edu/holycross/shot/latphone_2.12/3.0.0/latphone_2.12-3.0.0.pom\n",
      "Downloaded https://repo1.maven.org/maven2/edu/holycross/shot/seqcomp_2.12/2.2.1/seqcomp_2.12-2.2.1.pom\n",
      "Downloading https://repo1.maven.org/maven2/org/wvlet/airframe/airframe-log_2.12/20.5.2/airframe-log_2.12-20.5.2.pom\n",
      "Downloaded https://repo1.maven.org/maven2/edu/holycross/shot/tabulae_2.12/7.0.5/tabulae_2.12-7.0.5.pom\n",
      "Downloading https://repo1.maven.org/maven2/edu/holycross/shot/seqcomp_2.12/2.2.1/seqcomp_2.12-2.2.1.pom.sha1\n",
      "Downloaded https://repo1.maven.org/maven2/edu/holycross/shot/histoutils_2.12/2.3.0/histoutils_2.12-2.3.0.pom\n",
      "Downloaded https://repo1.maven.org/maven2/edu/holycross/shot/mid/orthography_2.12/2.1.0/orthography_2.12-2.1.0.pom\n",
      "Downloading https://repo1.maven.org/maven2/edu/holycross/shot/cite/xcite_2.12/4.3.0/xcite_2.12-4.3.0.pom\n",
      "Downloaded https://repo1.maven.org/maven2/edu/holycross/shot/latphone_2.12/3.0.0/latphone_2.12-3.0.0.pom\n",
      "Downloading https://repo1.maven.org/maven2/edu/holycross/shot/histoutils_2.12/2.3.0/histoutils_2.12-2.3.0.pom.sha1\n",
      "Downloading https://repo1.maven.org/maven2/edu/holycross/shot/tabulae_2.12/7.0.5/tabulae_2.12-7.0.5.pom.sha1\n",
      "Downloaded https://repo1.maven.org/maven2/edu/holycross/shot/seqcomp_2.12/2.2.1/seqcomp_2.12-2.2.1.pom.sha1\n",
      "Downloaded https://repo1.maven.org/maven2/edu/holycross/shot/cite/xcite_2.12/4.3.0/xcite_2.12-4.3.0.pom\n",
      "Downloading https://repo1.maven.org/maven2/edu/holycross/shot/latphone_2.12/3.0.0/latphone_2.12-3.0.0.pom.sha1\n",
      "Downloaded https://repo1.maven.org/maven2/edu/holycross/shot/tabulae_2.12/7.0.5/tabulae_2.12-7.0.5.pom.sha1\n",
      "Downloading https://repo1.maven.org/maven2/edu/holycross/shot/ohco2_2.12/10.20.4/ohco2_2.12-10.20.4.pom\n",
      "Downloading https://repo1.maven.org/maven2/edu/holycross/shot/mid/orthography_2.12/2.1.0/orthography_2.12-2.1.0.pom.sha1\n",
      "Downloaded https://repo1.maven.org/maven2/org/wvlet/airframe/airframe-log_2.12/20.5.2/airframe-log_2.12-20.5.2.pom\n",
      "Downloaded https://repo1.maven.org/maven2/com/github/pathikrit/better-files_2.12/3.5.0/better-files_2.12-3.5.0.pom\n",
      "Downloading https://repo1.maven.org/maven2/edu/holycross/shot/cite/xcite_2.12/4.3.0/xcite_2.12-4.3.0.pom.sha1\n",
      "Downloading https://dl.bintray.com/neelsmith/maven/edu/holycross/shot/seqcomp_2.12/2.2.1/seqcomp_2.12-2.2.1.pom\n",
      "Downloaded https://repo1.maven.org/maven2/edu/holycross/shot/latphone_2.12/3.0.0/latphone_2.12-3.0.0.pom.sha1\n",
      "Downloaded https://repo1.maven.org/maven2/edu/holycross/shot/mid/orthography_2.12/2.1.0/orthography_2.12-2.1.0.pom.sha1\n",
      "Downloaded https://repo1.maven.org/maven2/edu/holycross/shot/ohco2_2.12/10.20.4/ohco2_2.12-10.20.4.pom\n",
      "Downloaded https://repo1.maven.org/maven2/edu/holycross/shot/cite/xcite_2.12/4.3.0/xcite_2.12-4.3.0.pom.sha1\n",
      "Downloading https://dl.bintray.com/neelsmith/maven/edu/holycross/shot/tabulae_2.12/7.0.5/tabulae_2.12-7.0.5.pom\n",
      "Downloading https://repo1.maven.org/maven2/edu/holycross/shot/ohco2_2.12/10.20.4/ohco2_2.12-10.20.4.pom.sha1\n",
      "Downloading https://dl.bintray.com/neelsmith/maven/edu/holycross/shot/latphone_2.12/3.0.0/latphone_2.12-3.0.0.pom\n",
      "Downloading https://dl.bintray.com/neelsmith/maven/edu/holycross/shot/mid/orthography_2.12/2.1.0/orthography_2.12-2.1.0.pom\n",
      "Downloaded https://repo1.maven.org/maven2/edu/holycross/shot/ohco2_2.12/10.20.4/ohco2_2.12-10.20.4.pom.sha1\n",
      "Downloading https://dl.bintray.com/neelsmith/maven/edu/holycross/shot/cite/xcite_2.12/4.3.0/xcite_2.12-4.3.0.pom\n",
      "Downloaded https://repo1.maven.org/maven2/edu/holycross/shot/histoutils_2.12/2.3.0/histoutils_2.12-2.3.0.pom.sha1\n",
      "Downloading https://dl.bintray.com/neelsmith/maven/edu/holycross/shot/ohco2_2.12/10.20.4/ohco2_2.12-10.20.4.pom\n",
      "Downloaded https://dl.bintray.com/neelsmith/maven/edu/holycross/shot/seqcomp_2.12/2.2.1/seqcomp_2.12-2.2.1.pom\n",
      "Downloading https://dl.bintray.com/neelsmith/maven/edu/holycross/shot/histoutils_2.12/2.3.0/histoutils_2.12-2.3.0.pom\n",
      "Downloaded https://dl.bintray.com/neelsmith/maven/edu/holycross/shot/mid/orthography_2.12/2.1.0/orthography_2.12-2.1.0.pom\n",
      "Downloaded https://dl.bintray.com/neelsmith/maven/edu/holycross/shot/latphone_2.12/3.0.0/latphone_2.12-3.0.0.pom\n",
      "Downloaded https://dl.bintray.com/neelsmith/maven/edu/holycross/shot/cite/xcite_2.12/4.3.0/xcite_2.12-4.3.0.pom\n",
      "Downloaded https://dl.bintray.com/neelsmith/maven/edu/holycross/shot/histoutils_2.12/2.3.0/histoutils_2.12-2.3.0.pom\n",
      "Downloaded https://dl.bintray.com/neelsmith/maven/edu/holycross/shot/ohco2_2.12/10.20.4/ohco2_2.12-10.20.4.pom\n",
      "Downloaded https://dl.bintray.com/neelsmith/maven/edu/holycross/shot/tabulae_2.12/7.0.5/tabulae_2.12-7.0.5.pom\n",
      "Downloading https://repo1.maven.org/maven2/edu/holycross/shot/citevalidator_2.12/1.2.4/citevalidator_2.12-1.2.4.pom\n",
      "Downloading https://repo1.maven.org/maven2/edu/holycross/shot/cex_2.12/6.5.0/cex_2.12-6.5.0.pom\n",
      "Downloading https://repo1.maven.org/maven2/ch/qos/logback/logback-core/1.2.3/logback-core-1.2.3.pom\n",
      "Downloading https://repo1.maven.org/maven2/org/scala-lang/modules/scala-collection-compat_2.12/2.1.6/scala-collection-compat_2.12-2.1.6.pom\n",
      "Downloading https://repo1.maven.org/maven2/org/scala-lang/modules/scala-xml_2.12/1.0.6/scala-xml_2.12-1.0.6.pom\n",
      "Downloading https://repo1.maven.org/maven2/edu/holycross/shot/scm_2.12/7.3.2/scm_2.12-7.3.2.pom\n",
      "Downloaded https://repo1.maven.org/maven2/org/scala-lang/modules/scala-xml_2.12/1.0.6/scala-xml_2.12-1.0.6.pom\n",
      "Downloading https://repo1.maven.org/maven2/org/scala-lang/scala-library/2.12.11/scala-library-2.12.11.pom\n",
      "Downloaded https://repo1.maven.org/maven2/edu/holycross/shot/cex_2.12/6.5.0/cex_2.12-6.5.0.pom\n",
      "Downloaded https://repo1.maven.org/maven2/org/scala-lang/modules/scala-collection-compat_2.12/2.1.6/scala-collection-compat_2.12-2.1.6.pom\n",
      "Downloading https://repo1.maven.org/maven2/edu/holycross/shot/cex_2.12/6.5.0/cex_2.12-6.5.0.pom.sha1\n",
      "Downloaded https://repo1.maven.org/maven2/edu/holycross/shot/cex_2.12/6.5.0/cex_2.12-6.5.0.pom.sha1\n",
      "Downloaded https://repo1.maven.org/maven2/edu/holycross/shot/scm_2.12/7.3.2/scm_2.12-7.3.2.pom\n",
      "Downloaded https://repo1.maven.org/maven2/edu/holycross/shot/citevalidator_2.12/1.2.4/citevalidator_2.12-1.2.4.pom\n",
      "Downloading https://repo1.maven.org/maven2/edu/holycross/shot/citevalidator_2.12/1.2.4/citevalidator_2.12-1.2.4.pom.sha1\n",
      "Downloading https://dl.bintray.com/neelsmith/maven/edu/holycross/shot/cex_2.12/6.5.0/cex_2.12-6.5.0.pom\n",
      "Downloaded https://repo1.maven.org/maven2/org/scala-lang/scala-library/2.12.11/scala-library-2.12.11.pom\n",
      "Downloading https://repo1.maven.org/maven2/edu/holycross/shot/scm_2.12/7.3.2/scm_2.12-7.3.2.pom.sha1\n",
      "Downloaded https://repo1.maven.org/maven2/edu/holycross/shot/citevalidator_2.12/1.2.4/citevalidator_2.12-1.2.4.pom.sha1\n",
      "Downloading https://dl.bintray.com/neelsmith/maven/edu/holycross/shot/citevalidator_2.12/1.2.4/citevalidator_2.12-1.2.4.pom\n",
      "Downloaded https://repo1.maven.org/maven2/ch/qos/logback/logback-core/1.2.3/logback-core-1.2.3.pom\n",
      "Downloaded https://repo1.maven.org/maven2/edu/holycross/shot/scm_2.12/7.3.2/scm_2.12-7.3.2.pom.sha1\n",
      "Downloading https://dl.bintray.com/neelsmith/maven/edu/holycross/shot/scm_2.12/7.3.2/scm_2.12-7.3.2.pom\n",
      "Downloaded https://dl.bintray.com/neelsmith/maven/edu/holycross/shot/citevalidator_2.12/1.2.4/citevalidator_2.12-1.2.4.pom\n",
      "Downloaded https://dl.bintray.com/neelsmith/maven/edu/holycross/shot/cex_2.12/6.5.0/cex_2.12-6.5.0.pom\n",
      "Downloaded https://dl.bintray.com/neelsmith/maven/edu/holycross/shot/scm_2.12/7.3.2/scm_2.12-7.3.2.pom\n",
      "Downloading https://repo1.maven.org/maven2/ch/qos/logback/logback-parent/1.2.3/logback-parent-1.2.3.pom\n",
      "Downloaded https://repo1.maven.org/maven2/ch/qos/logback/logback-parent/1.2.3/logback-parent-1.2.3.pom\n",
      "Downloading https://repo1.maven.org/maven2/edu/holycross/shot/citerelations_2.12/2.7.0/citerelations_2.12-2.7.0.pom\n",
      "Downloading https://repo1.maven.org/maven2/edu/holycross/shot/citebinaryimage_2.12/3.2.0/citebinaryimage_2.12-3.2.0.pom\n",
      "Downloading https://repo1.maven.org/maven2/edu/holycross/shot/dse_2.12/7.1.2/dse_2.12-7.1.2.pom\n",
      "Downloading https://repo1.maven.org/maven2/edu/holycross/shot/xmlutils_2.12/2.0.0/xmlutils_2.12-2.0.0.pom\n",
      "Downloading https://repo1.maven.org/maven2/edu/holycross/shot/citeobj_2.12/7.5.0/citeobj_2.12-7.5.0.pom\n",
      "Downloaded https://repo1.maven.org/maven2/edu/holycross/shot/citerelations_2.12/2.7.0/citerelations_2.12-2.7.0.pom\n",
      "Downloading https://repo1.maven.org/maven2/edu/holycross/shot/citerelations_2.12/2.7.0/citerelations_2.12-2.7.0.pom.sha1\n",
      "Downloaded https://repo1.maven.org/maven2/edu/holycross/shot/citebinaryimage_2.12/3.2.0/citebinaryimage_2.12-3.2.0.pom\n",
      "Downloaded https://repo1.maven.org/maven2/edu/holycross/shot/citeobj_2.12/7.5.0/citeobj_2.12-7.5.0.pom\n",
      "Downloading https://repo1.maven.org/maven2/edu/holycross/shot/citebinaryimage_2.12/3.2.0/citebinaryimage_2.12-3.2.0.pom.sha1\n",
      "Downloaded https://repo1.maven.org/maven2/edu/holycross/shot/dse_2.12/7.1.2/dse_2.12-7.1.2.pom\n",
      "Downloading https://repo1.maven.org/maven2/edu/holycross/shot/citeobj_2.12/7.5.0/citeobj_2.12-7.5.0.pom.sha1\n",
      "Downloading https://repo1.maven.org/maven2/edu/holycross/shot/dse_2.12/7.1.2/dse_2.12-7.1.2.pom.sha1\n",
      "Downloaded https://repo1.maven.org/maven2/edu/holycross/shot/citebinaryimage_2.12/3.2.0/citebinaryimage_2.12-3.2.0.pom.sha1\n",
      "Downloading https://dl.bintray.com/neelsmith/maven/edu/holycross/shot/citebinaryimage_2.12/3.2.0/citebinaryimage_2.12-3.2.0.pom\n",
      "Downloaded https://repo1.maven.org/maven2/edu/holycross/shot/xmlutils_2.12/2.0.0/xmlutils_2.12-2.0.0.pom\n",
      "Downloading https://repo1.maven.org/maven2/edu/holycross/shot/xmlutils_2.12/2.0.0/xmlutils_2.12-2.0.0.pom.sha1\n",
      "Downloaded https://repo1.maven.org/maven2/edu/holycross/shot/citerelations_2.12/2.7.0/citerelations_2.12-2.7.0.pom.sha1\n",
      "Downloading https://dl.bintray.com/neelsmith/maven/edu/holycross/shot/citerelations_2.12/2.7.0/citerelations_2.12-2.7.0.pom\n",
      "Downloaded https://repo1.maven.org/maven2/edu/holycross/shot/dse_2.12/7.1.2/dse_2.12-7.1.2.pom.sha1\n",
      "Downloaded https://repo1.maven.org/maven2/edu/holycross/shot/citeobj_2.12/7.5.0/citeobj_2.12-7.5.0.pom.sha1\n",
      "Downloading https://dl.bintray.com/neelsmith/maven/edu/holycross/shot/dse_2.12/7.1.2/dse_2.12-7.1.2.pom\n",
      "Downloading https://dl.bintray.com/neelsmith/maven/edu/holycross/shot/citeobj_2.12/7.5.0/citeobj_2.12-7.5.0.pom\n",
      "Downloaded https://repo1.maven.org/maven2/edu/holycross/shot/xmlutils_2.12/2.0.0/xmlutils_2.12-2.0.0.pom.sha1\n",
      "Downloading https://dl.bintray.com/neelsmith/maven/edu/holycross/shot/xmlutils_2.12/2.0.0/xmlutils_2.12-2.0.0.pom\n",
      "Downloaded https://dl.bintray.com/neelsmith/maven/edu/holycross/shot/citebinaryimage_2.12/3.2.0/citebinaryimage_2.12-3.2.0.pom\n",
      "Downloaded https://dl.bintray.com/neelsmith/maven/edu/holycross/shot/citerelations_2.12/2.7.0/citerelations_2.12-2.7.0.pom\n",
      "Downloaded https://dl.bintray.com/neelsmith/maven/edu/holycross/shot/dse_2.12/7.1.2/dse_2.12-7.1.2.pom\n",
      "Downloaded https://dl.bintray.com/neelsmith/maven/edu/holycross/shot/citeobj_2.12/7.5.0/citeobj_2.12-7.5.0.pom\n",
      "Downloaded https://dl.bintray.com/neelsmith/maven/edu/holycross/shot/xmlutils_2.12/2.0.0/xmlutils_2.12-2.0.0.pom\n",
      "Downloading https://repo1.maven.org/maven2/org/wvlet/airframe/airframe-log_2.12/20.5.2/airframe-log_2.12-20.5.2.jar\n",
      "Downloading https://dl.bintray.com/neelsmith/maven/edu/holycross/shot/cite/xcite_2.12/4.3.0/xcite_2.12-4.3.0.jar\n",
      "Downloading https://repo1.maven.org/maven2/ch/qos/logback/logback-core/1.2.3/logback-core-1.2.3.jar\n",
      "Downloading https://repo1.maven.org/maven2/org/scala-lang/modules/scala-xml_2.12/1.0.6/scala-xml_2.12-1.0.6.jar\n",
      "Downloading https://dl.bintray.com/neelsmith/maven/edu/holycross/shot/cex_2.12/6.5.0/cex_2.12-6.5.0.jar\n",
      "Downloading https://dl.bintray.com/neelsmith/maven/edu/holycross/shot/ohco2_2.12/10.20.4/ohco2_2.12-10.20.4.jar\n",
      "Downloaded https://repo1.maven.org/maven2/org/wvlet/airframe/airframe-log_2.12/20.5.2/airframe-log_2.12-20.5.2.jar\n",
      "Downloading https://dl.bintray.com/neelsmith/maven/edu/holycross/shot/citeobj_2.12/7.5.0/citeobj_2.12-7.5.0.jar\n",
      "Downloaded https://repo1.maven.org/maven2/ch/qos/logback/logback-core/1.2.3/logback-core-1.2.3.jar\n",
      "Downloading https://dl.bintray.com/neelsmith/maven/edu/holycross/shot/seqcomp_2.12/2.2.1/seqcomp_2.12-2.2.1.jar\n",
      "Downloaded https://repo1.maven.org/maven2/org/scala-lang/modules/scala-xml_2.12/1.0.6/scala-xml_2.12-1.0.6.jar\n",
      "Downloading https://dl.bintray.com/neelsmith/maven/edu/holycross/shot/citerelations_2.12/2.7.0/citerelations_2.12-2.7.0.jar\n",
      "Downloaded https://dl.bintray.com/neelsmith/maven/edu/holycross/shot/cex_2.12/6.5.0/cex_2.12-6.5.0.jar\n",
      "Downloading https://dl.bintray.com/neelsmith/maven/edu/holycross/shot/scm_2.12/7.3.2/scm_2.12-7.3.2.jar\n",
      "Downloaded https://dl.bintray.com/neelsmith/maven/edu/holycross/shot/cite/xcite_2.12/4.3.0/xcite_2.12-4.3.0.jar\n",
      "Downloading https://dl.bintray.com/neelsmith/maven/edu/holycross/shot/citebinaryimage_2.12/3.2.0/citebinaryimage_2.12-3.2.0.jar\n",
      "Downloaded https://dl.bintray.com/neelsmith/maven/edu/holycross/shot/ohco2_2.12/10.20.4/ohco2_2.12-10.20.4.jar\n",
      "Downloading https://dl.bintray.com/neelsmith/maven/edu/holycross/shot/dse_2.12/7.1.2/dse_2.12-7.1.2.jar\n",
      "Downloaded https://dl.bintray.com/neelsmith/maven/edu/holycross/shot/seqcomp_2.12/2.2.1/seqcomp_2.12-2.2.1.jar\n",
      "Downloading https://repo1.maven.org/maven2/com/github/pathikrit/better-files_2.12/3.5.0/better-files_2.12-3.5.0.jar\n",
      "Downloaded https://repo1.maven.org/maven2/com/github/pathikrit/better-files_2.12/3.5.0/better-files_2.12-3.5.0.jar\n",
      "Downloading https://dl.bintray.com/neelsmith/maven/edu/holycross/shot/xmlutils_2.12/2.0.0/xmlutils_2.12-2.0.0.jar\n",
      "Downloaded https://dl.bintray.com/neelsmith/maven/edu/holycross/shot/citeobj_2.12/7.5.0/citeobj_2.12-7.5.0.jar\n",
      "Downloading https://dl.bintray.com/neelsmith/maven/edu/holycross/shot/citevalidator_2.12/1.2.4/citevalidator_2.12-1.2.4.jar\n",
      "Downloaded https://dl.bintray.com/neelsmith/maven/edu/holycross/shot/citebinaryimage_2.12/3.2.0/citebinaryimage_2.12-3.2.0.jar\n",
      "Downloading https://dl.bintray.com/neelsmith/maven/edu/holycross/shot/latphone_2.12/3.0.0/latphone_2.12-3.0.0.jar\n",
      "Downloaded https://dl.bintray.com/neelsmith/maven/edu/holycross/shot/scm_2.12/7.3.2/scm_2.12-7.3.2.jar\n",
      "Downloading https://dl.bintray.com/neelsmith/maven/edu/holycross/shot/histoutils_2.12/2.3.0/histoutils_2.12-2.3.0.jar\n",
      "Downloaded https://dl.bintray.com/neelsmith/maven/edu/holycross/shot/dse_2.12/7.1.2/dse_2.12-7.1.2.jar\n",
      "Downloading https://dl.bintray.com/neelsmith/maven/edu/holycross/shot/tabulae_2.12/7.0.5/tabulae_2.12-7.0.5.jar\n",
      "Downloaded https://dl.bintray.com/neelsmith/maven/edu/holycross/shot/citerelations_2.12/2.7.0/citerelations_2.12-2.7.0.jar\n",
      "Downloading https://repo1.maven.org/maven2/org/scala-lang/scala-library/2.12.11/scala-library-2.12.11-sources.jar\n",
      "Downloaded https://dl.bintray.com/neelsmith/maven/edu/holycross/shot/xmlutils_2.12/2.0.0/xmlutils_2.12-2.0.0.jar\n",
      "Downloading https://repo1.maven.org/maven2/org/scala-lang/modules/scala-collection-compat_2.12/2.1.6/scala-collection-compat_2.12-2.1.6-sources.jar\n",
      "Downloaded https://repo1.maven.org/maven2/org/scala-lang/modules/scala-collection-compat_2.12/2.1.6/scala-collection-compat_2.12-2.1.6-sources.jar\n",
      "Downloading https://repo1.maven.org/maven2/org/wvlet/airframe/airframe-log_2.12/20.5.2/airframe-log_2.12-20.5.2-sources.jar\n",
      "Downloaded https://dl.bintray.com/neelsmith/maven/edu/holycross/shot/citevalidator_2.12/1.2.4/citevalidator_2.12-1.2.4.jar\n",
      "Downloading https://dl.bintray.com/neelsmith/maven/edu/holycross/shot/seqcomp_2.12/2.2.1/seqcomp_2.12-2.2.1-sources.jar\n",
      "Downloaded https://repo1.maven.org/maven2/org/wvlet/airframe/airframe-log_2.12/20.5.2/airframe-log_2.12-20.5.2-sources.jar\n",
      "Downloading https://repo1.maven.org/maven2/org/scala-lang/modules/scala-xml_2.12/1.0.6/scala-xml_2.12-1.0.6-sources.jar\n",
      "Downloaded https://repo1.maven.org/maven2/org/scala-lang/modules/scala-xml_2.12/1.0.6/scala-xml_2.12-1.0.6-sources.jar\n",
      "Downloading https://dl.bintray.com/neelsmith/maven/edu/holycross/shot/ohco2_2.12/10.20.4/ohco2_2.12-10.20.4-sources.jar\n",
      "Downloaded https://dl.bintray.com/neelsmith/maven/edu/holycross/shot/latphone_2.12/3.0.0/latphone_2.12-3.0.0.jar\n",
      "Downloaded https://repo1.maven.org/maven2/org/scala-lang/scala-library/2.12.11/scala-library-2.12.11-sources.jar\n",
      "Downloading https://dl.bintray.com/neelsmith/maven/edu/holycross/shot/cex_2.12/6.5.0/cex_2.12-6.5.0-sources.jar\n",
      "Downloading https://dl.bintray.com/neelsmith/maven/edu/holycross/shot/scm_2.12/7.3.2/scm_2.12-7.3.2-sources.jar\n",
      "Downloaded https://dl.bintray.com/neelsmith/maven/edu/holycross/shot/histoutils_2.12/2.3.0/histoutils_2.12-2.3.0.jar\n",
      "Downloading https://dl.bintray.com/neelsmith/maven/edu/holycross/shot/citerelations_2.12/2.7.0/citerelations_2.12-2.7.0-sources.jar\n",
      "Downloaded https://dl.bintray.com/neelsmith/maven/edu/holycross/shot/seqcomp_2.12/2.2.1/seqcomp_2.12-2.2.1-sources.jar\n",
      "Downloading https://dl.bintray.com/neelsmith/maven/edu/holycross/shot/citebinaryimage_2.12/3.2.0/citebinaryimage_2.12-3.2.0-sources.jar\n",
      "Downloaded https://dl.bintray.com/neelsmith/maven/edu/holycross/shot/ohco2_2.12/10.20.4/ohco2_2.12-10.20.4-sources.jar\n",
      "Downloading https://dl.bintray.com/neelsmith/maven/edu/holycross/shot/dse_2.12/7.1.2/dse_2.12-7.1.2-sources.jar\n",
      "Downloaded https://dl.bintray.com/neelsmith/maven/edu/holycross/shot/cex_2.12/6.5.0/cex_2.12-6.5.0-sources.jar\n",
      "Downloading https://dl.bintray.com/neelsmith/maven/edu/holycross/shot/citevalidator_2.12/1.2.4/citevalidator_2.12-1.2.4-sources.jar\n",
      "Downloaded https://dl.bintray.com/neelsmith/maven/edu/holycross/shot/citerelations_2.12/2.7.0/citerelations_2.12-2.7.0-sources.jar\n",
      "Downloading https://dl.bintray.com/neelsmith/maven/edu/holycross/shot/latphone_2.12/3.0.0/latphone_2.12-3.0.0-sources.jar\n",
      "Downloaded https://dl.bintray.com/neelsmith/maven/edu/holycross/shot/scm_2.12/7.3.2/scm_2.12-7.3.2-sources.jar\n",
      "Downloading https://dl.bintray.com/neelsmith/maven/edu/holycross/shot/latincorpus_2.12/7.0.0-preview/latincorpus_2.12-7.0.0-preview-sources.jar\n",
      "Downloaded https://dl.bintray.com/neelsmith/maven/edu/holycross/shot/tabulae_2.12/7.0.5/tabulae_2.12-7.0.5.jar\n",
      "Downloading https://dl.bintray.com/neelsmith/maven/edu/holycross/shot/histoutils_2.12/2.3.0/histoutils_2.12-2.3.0-sources.jar\n",
      "Downloaded https://dl.bintray.com/neelsmith/maven/edu/holycross/shot/citebinaryimage_2.12/3.2.0/citebinaryimage_2.12-3.2.0-sources.jar\n",
      "Downloading https://dl.bintray.com/neelsmith/maven/edu/holycross/shot/tabulae_2.12/7.0.5/tabulae_2.12-7.0.5-sources.jar\n",
      "Downloaded https://dl.bintray.com/neelsmith/maven/edu/holycross/shot/dse_2.12/7.1.2/dse_2.12-7.1.2-sources.jar\n",
      "Downloading https://dl.bintray.com/neelsmith/maven/edu/holycross/shot/latincorpus_2.12/7.0.0-preview/latincorpus_2.12-7.0.0-preview.jar\n",
      "Downloaded https://dl.bintray.com/neelsmith/maven/edu/holycross/shot/latincorpus_2.12/7.0.0-preview/latincorpus_2.12-7.0.0-preview-sources.jar\n",
      "Downloading https://dl.bintray.com/neelsmith/maven/edu/holycross/shot/citeobj_2.12/7.5.0/citeobj_2.12-7.5.0-sources.jar\n",
      "Downloaded https://dl.bintray.com/neelsmith/maven/edu/holycross/shot/latphone_2.12/3.0.0/latphone_2.12-3.0.0-sources.jar\n",
      "Downloading https://repo1.maven.org/maven2/com/github/pathikrit/better-files_2.12/3.5.0/better-files_2.12-3.5.0-sources.jar\n",
      "Downloaded https://repo1.maven.org/maven2/com/github/pathikrit/better-files_2.12/3.5.0/better-files_2.12-3.5.0-sources.jar\n",
      "Downloading https://dl.bintray.com/neelsmith/maven/edu/holycross/shot/xmlutils_2.12/2.0.0/xmlutils_2.12-2.0.0-sources.jar\n",
      "Downloaded https://dl.bintray.com/neelsmith/maven/edu/holycross/shot/citevalidator_2.12/1.2.4/citevalidator_2.12-1.2.4-sources.jar\n",
      "Downloading https://dl.bintray.com/neelsmith/maven/edu/holycross/shot/mid/orthography_2.12/2.1.0/orthography_2.12-2.1.0.jar\n",
      "Downloaded https://dl.bintray.com/neelsmith/maven/edu/holycross/shot/histoutils_2.12/2.3.0/histoutils_2.12-2.3.0-sources.jar\n",
      "Downloading https://dl.bintray.com/neelsmith/maven/edu/holycross/shot/cite/xcite_2.12/4.3.0/xcite_2.12-4.3.0-sources.jar\n",
      "Downloaded https://dl.bintray.com/neelsmith/maven/edu/holycross/shot/tabulae_2.12/7.0.5/tabulae_2.12-7.0.5-sources.jar\n",
      "Downloading https://repo1.maven.org/maven2/org/scala-lang/modules/scala-collection-compat_2.12/2.1.6/scala-collection-compat_2.12-2.1.6.jar\n",
      "Downloaded https://dl.bintray.com/neelsmith/maven/edu/holycross/shot/citeobj_2.12/7.5.0/citeobj_2.12-7.5.0-sources.jar\n",
      "Downloading https://repo1.maven.org/maven2/ch/qos/logback/logback-core/1.2.3/logback-core-1.2.3-sources.jar\n",
      "Downloaded https://repo1.maven.org/maven2/org/scala-lang/modules/scala-collection-compat_2.12/2.1.6/scala-collection-compat_2.12-2.1.6.jar\n",
      "Downloaded https://dl.bintray.com/neelsmith/maven/edu/holycross/shot/latincorpus_2.12/7.0.0-preview/latincorpus_2.12-7.0.0-preview.jar\n",
      "Downloaded https://dl.bintray.com/neelsmith/maven/edu/holycross/shot/xmlutils_2.12/2.0.0/xmlutils_2.12-2.0.0-sources.jar\n",
      "Downloading https://dl.bintray.com/neelsmith/maven/edu/holycross/shot/mid/orthography_2.12/2.1.0/orthography_2.12-2.1.0-sources.jar\n",
      "Downloaded https://repo1.maven.org/maven2/ch/qos/logback/logback-core/1.2.3/logback-core-1.2.3-sources.jar\n",
      "Downloaded https://dl.bintray.com/neelsmith/maven/edu/holycross/shot/mid/orthography_2.12/2.1.0/orthography_2.12-2.1.0.jar\n",
      "Downloading https://dl.bintray.com/neelsmith/maven/edu/holycross/shot/tabulae_2.12/7.0.5/tabulae_2.12-7.0.5.jar.sha1\n",
      "Downloaded https://dl.bintray.com/neelsmith/maven/edu/holycross/shot/cite/xcite_2.12/4.3.0/xcite_2.12-4.3.0-sources.jar\n",
      "Downloaded https://dl.bintray.com/neelsmith/maven/edu/holycross/shot/tabulae_2.12/7.0.5/tabulae_2.12-7.0.5.jar.sha1\n",
      "Downloaded https://dl.bintray.com/neelsmith/maven/edu/holycross/shot/mid/orthography_2.12/2.1.0/orthography_2.12-2.1.0-sources.jar\n"
     ]
    },
    {
     "data": {
      "text/plain": [
       "\u001b[32mimport \u001b[39m\u001b[36m$ivy.$                                              \u001b[39m"
      ]
     },
     "execution_count": 2,
     "metadata": {},
     "output_type": "execute_result"
    }
   ],
   "source": [
    "// ivy imports\n",
    "import $ivy.`edu.holycross.shot::latincorpus:7.0.0-pr3`"
   ]
  },
  {
   "cell_type": "code",
   "execution_count": 4,
   "metadata": {
    "collapsed": true
   },
   "outputs": [
    {
     "data": {
      "text/plain": [
       "\u001b[32mimport \u001b[39m\u001b[36medu.holycross.shot.latincorpus._\n",
       "\u001b[39m\n",
       "\u001b[36mhyginusUrl\u001b[39m: \u001b[32mString\u001b[39m = \u001b[32m\"https://raw.githubusercontent.com/LinguaLatina/analysis/master/data/hyginus/hyginus-latc.cex\"\u001b[39m\n",
       "\u001b[36mhyginus\u001b[39m: \u001b[32mLatinCorpus\u001b[39m = \u001b[33mLatinCorpus\u001b[39m(\n",
       "  \u001b[33mVector\u001b[39m(\n",
       "    \u001b[33mLatinParsedToken\u001b[39m(\n",
       "      \u001b[33mCitableNode\u001b[39m(\n",
       "        \u001b[33mCtsUrn\u001b[39m(\u001b[32m\"urn:cts:latinLit:stoa1263.stoa001.hc_tkns:t.1.0\"\u001b[39m),\n",
       "        \u001b[32m\"EXCERPTA\"\u001b[39m\n",
       "      ),\n",
       "      LexicalToken,\n",
       "      \u001b[33mVector\u001b[39m()\n",
       "    ),\n",
       "    \u001b[33mLatinParsedToken\u001b[39m(\n",
       "      \u001b[33mCitableNode\u001b[39m(\n",
       "        \u001b[33mCtsUrn\u001b[39m(\u001b[32m\"urn:cts:latinLit:stoa1263.stoa001.hc_tkns:t.1.1\"\u001b[39m),\n",
       "        \u001b[32m\"EX\"\u001b[39m\n",
       "      ),\n",
       "      LexicalToken,\n",
       "      \u001b[33mVector\u001b[39m(\u001b[33mIndeclinableForm\u001b[39m(\u001b[32m\"ls.n16519\"\u001b[39m, \u001b[32m\"\"\u001b[39m, \u001b[32m\"\"\u001b[39m, Conjunction))\n",
       "    ),\n",
       "    \u001b[33mLatinParsedToken\u001b[39m(\n",
       "      \u001b[33mCitableNode\u001b[39m(\n",
       "        \u001b[33mCtsUrn\u001b[39m(\u001b[32m\"urn:cts:latinLit:stoa1263.stoa001.hc_tkns:t.1.2\"\u001b[39m),\n",
       "        \u001b[32m\"HYGINI\"\u001b[39m\n",
       "      ),\n",
       "      LexicalToken,\n",
       "      \u001b[33mVector\u001b[39m()\n",
       "    ),\n",
       "    \u001b[33mLatinParsedToken\u001b[39m(\n",
       "      \u001b[33mCitableNode\u001b[39m(\n",
       "        \u001b[33mCtsUrn\u001b[39m(\u001b[32m\"urn:cts:latinLit:stoa1263.stoa001.hc_tkns:t.1.3\"\u001b[39m),\n",
       "        \u001b[32m\"GENEALOGIIS\"\u001b[39m\n",
       "      ),\n",
       "      LexicalToken,\n",
       "      \u001b[33mVector\u001b[39m()\n",
       "    ),\n",
       "    \u001b[33mLatinParsedToken\u001b[39m(\n",
       "      \u001b[33mCitableNode\u001b[39m(\n",
       "        \u001b[33mCtsUrn\u001b[39m(\u001b[32m\"urn:cts:latinLit:stoa1263.stoa001.hc_tkns:t.1.3_0\"\u001b[39m),\n",
       "        \u001b[32m\",\"\u001b[39m\n",
       "      ),\n",
       "..."
      ]
     },
     "execution_count": 4,
     "metadata": {},
     "output_type": "execute_result"
    }
   ],
   "source": [
    "import edu.holycross.shot.latincorpus._"
   ]
  },
  {
   "cell_type": "code",
   "execution_count": 5,
   "metadata": {
    "collapsed": true
   },
   "outputs": [
    {
     "data": {
      "text/plain": [
       "\u001b[36mhyginusUrl\u001b[39m: \u001b[32mString\u001b[39m = \u001b[32m\"https://raw.githubusercontent.com/LinguaLatina/analysis/master/data/hyginus/hyginus-latc.cex\"\u001b[39m\n",
       "\u001b[36mhyginus\u001b[39m: \u001b[32mLatinCorpus\u001b[39m = \u001b[33mLatinCorpus\u001b[39m(\n",
       "  \u001b[33mVector\u001b[39m(\n",
       "    \u001b[33mLatinParsedToken\u001b[39m(\n",
       "      \u001b[33mCitableNode\u001b[39m(\n",
       "        \u001b[33mCtsUrn\u001b[39m(\u001b[32m\"urn:cts:latinLit:stoa1263.stoa001.hc_tkns:t.1.0\"\u001b[39m),\n",
       "        \u001b[32m\"EXCERPTA\"\u001b[39m\n",
       "      ),\n",
       "      LexicalToken,\n",
       "      \u001b[33mVector\u001b[39m()\n",
       "    ),\n",
       "    \u001b[33mLatinParsedToken\u001b[39m(\n",
       "      \u001b[33mCitableNode\u001b[39m(\n",
       "        \u001b[33mCtsUrn\u001b[39m(\u001b[32m\"urn:cts:latinLit:stoa1263.stoa001.hc_tkns:t.1.1\"\u001b[39m),\n",
       "        \u001b[32m\"EX\"\u001b[39m\n",
       "      ),\n",
       "      LexicalToken,\n",
       "      \u001b[33mVector\u001b[39m(\u001b[33mIndeclinableForm\u001b[39m(\u001b[32m\"ls.n16519\"\u001b[39m, \u001b[32m\"\"\u001b[39m, \u001b[32m\"\"\u001b[39m, Conjunction))\n",
       "    ),\n",
       "    \u001b[33mLatinParsedToken\u001b[39m(\n",
       "      \u001b[33mCitableNode\u001b[39m(\n",
       "        \u001b[33mCtsUrn\u001b[39m(\u001b[32m\"urn:cts:latinLit:stoa1263.stoa001.hc_tkns:t.1.2\"\u001b[39m),\n",
       "        \u001b[32m\"HYGINI\"\u001b[39m\n",
       "      ),\n",
       "      LexicalToken,\n",
       "      \u001b[33mVector\u001b[39m()\n",
       "    ),\n",
       "    \u001b[33mLatinParsedToken\u001b[39m(\n",
       "      \u001b[33mCitableNode\u001b[39m(\n",
       "        \u001b[33mCtsUrn\u001b[39m(\u001b[32m\"urn:cts:latinLit:stoa1263.stoa001.hc_tkns:t.1.3\"\u001b[39m),\n",
       "        \u001b[32m\"GENEALOGIIS\"\u001b[39m\n",
       "      ),\n",
       "      LexicalToken,\n",
       "      \u001b[33mVector\u001b[39m()\n",
       "    ),\n",
       "    \u001b[33mLatinParsedToken\u001b[39m(\n",
       "      \u001b[33mCitableNode\u001b[39m(\n",
       "        \u001b[33mCtsUrn\u001b[39m(\u001b[32m\"urn:cts:latinLit:stoa1263.stoa001.hc_tkns:t.1.3_0\"\u001b[39m),\n",
       "        \u001b[32m\",\"\u001b[39m\n",
       "      ),\n",
       "..."
      ]
     },
     "execution_count": 5,
     "metadata": {},
     "output_type": "execute_result"
    }
   ],
   "source": [
    "val hyginusUrl = \"https://raw.githubusercontent.com/LinguaLatina/analysis/master/data/hyginus/hyginus-latc.cex\"\n",
    "val hyginus = LatinCorpus.fromUrl(hyginusUrl)"
   ]
  },
  {
   "cell_type": "code",
   "execution_count": 28,
   "metadata": {},
   "outputs": [
    {
     "data": {
      "text/plain": [
       "defined \u001b[32mfunction\u001b[39m \u001b[36mmoreLikeThis\u001b[39m"
      ]
     },
     "execution_count": 28,
     "metadata": {},
     "output_type": "execute_result"
    }
   ],
   "source": [
    "def moreLikeThis(s: String) = {\n",
    "    try {\n",
    "        val lexemes = hyginus.tokenLexemeIndex(s)     \n",
    "        val labelledLexemes = hyginus.tokenLabelledLexemeIndex(s)  \n",
    "        println(s\"${s} matched ${labelledLexemes.size} lexeme(s): \" + labelledLexemes.mkString(\", \") + \"\\n\") \n",
    "        \n",
    "        for (lex <- lexemes) {\n",
    "            val cns = hyginus.citableUnits.sequences.filter( cn => cn.matchesLexeme(lex))\n",
    "            println(\"For \" + lex + \", matched \" + cns.size + \" citable passages.\\n\")\n",
    "            for ((cn, i) <- cns.zipWithIndex) {\n",
    "                val txt = cn.lexicalText.mkString(\" \")\n",
    "                println(s\"${i + 1} ${txt}\\n\\n\")\n",
    "            }\n",
    "        }\n",
    "        \n",
    "        \n",
    "    } catch {\n",
    "        case nope: java.util.NoSuchElementException => {\n",
    "            println(\"'\" + s + \"' does not occur in Hyginus.  Please check the form, and try again.\")\n",
    "        }    \n",
    "        \n",
    "        \n",
    "    }\n",
    "\n",
    "}"
   ]
  },
  {
   "cell_type": "code",
   "execution_count": null,
   "metadata": {},
   "outputs": [],
   "source": []
  }
 ],
 "metadata": {
  "kernelspec": {
   "display_name": "Scala (2.12)",
   "language": "scala",
   "name": "scala212"
  },
  "language_info": {
   "codemirror_mode": "text/x-scala",
   "file_extension": ".scala",
   "mimetype": "text/x-scala",
   "name": "scala",
   "nbconvert_exporter": "script",
   "version": "2.12.10"
  },
  "nteract": {
   "version": "0.24.0"
  }
 },
 "nbformat": 4,
 "nbformat_minor": 4
}
