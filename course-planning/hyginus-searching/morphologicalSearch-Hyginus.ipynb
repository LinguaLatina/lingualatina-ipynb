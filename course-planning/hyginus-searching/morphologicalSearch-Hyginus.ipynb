{
 "cells": [
  {
   "cell_type": "markdown",
   "metadata": {},
   "source": [
    "# Morphological search of finite verbs in Hyginus, *Fabulae*\n",
    "\n",
    "> *Add link here to all the caveats...*\n",
    "\n",
    "\n",
    "### How to use this notebook\n",
    "\n",
    "1. First, run step 1 (e.g., by selecting the cell labelled **Step 1: load everything** and choosing \"Run all below\" from the \"Cell\" menu).  This will be slow, and your mileage may vary depending on how well your connection to different resources on the internet happens to be performing just then.\n",
    "2. Just below the cell labelled **Step 2: search by morphological features**, fill in the arguments to the `List` definition with any one or more of the following property names:\n"
   ]
  },
  {
   "cell_type": "markdown",
   "metadata": {},
   "source": [
    "- `first`\n",
    "- `second`\n",
    "- `third`\n",
    "\n",
    "- `singular`\n",
    "- `plural`\n",
    "\n",
    "- `present`\n",
    "- `future`\n",
    "- `imperfect`\n",
    "- `perfect`\n",
    "- `pluperfect`\n",
    "- `futureperfect`\n",
    "\n",
    "- `indicative`\n",
    "- `imperative`\n",
    "- `subjunctive`\n",
    "\n",
    "- `active`\n",
    "- `passive`\n",
    "\n",
    "- `nominative`\n",
    "- `genitive`\n",
    "- `dative`\n",
    "- `accusative`\n",
    "- `ablative`\n",
    "- `vocative`\n",
    "\n",
    "- `positive`\n",
    "- `comparative`\n",
    "- `superlative`\n",
    "\n"
   ]
  },
  {
   "cell_type": "markdown",
   "metadata": {},
   "source": [
    "Then run the cell (e.g., by selecting it, and choosing \"Run cells\" from the \"Cell\" menu)."
   ]
  },
  {
   "cell_type": "markdown",
   "metadata": {},
   "source": [
    "# Step 2: search by morphological features"
   ]
  },
  {
   "cell_type": "code",
   "execution_count": null,
   "metadata": {},
   "outputs": [],
   "source": [
    "val propertyList = List(subjunctive, present, passive)\n",
    "matchProperties(propertyList)\n",
    "\n"
   ]
  },
  {
   "cell_type": "markdown",
   "metadata": {},
   "source": [
    "# Step 1: load everything\n"
   ]
  },
  {
   "cell_type": "code",
   "execution_count": null,
   "metadata": {},
   "outputs": [],
   "source": [
    "// set up notebook to find repository\n",
    "val personalRepo = coursierapi.MavenRepository.of(\"https://dl.bintray.com/neelsmith/maven\")\n",
    "interp.repositories() ++= Seq(personalRepo)"
   ]
  },
  {
   "cell_type": "code",
   "execution_count": null,
   "metadata": {},
   "outputs": [],
   "source": [
    "// ivy imports\n",
    "import $ivy.`edu.holycross.shot::latincorpus:7.0.0-pr3`\n",
    "import $ivy.`edu.holycross.shot::tabulae:7.0.5`"
   ]
  },
  {
   "cell_type": "code",
   "execution_count": null,
   "metadata": {},
   "outputs": [],
   "source": [
    "import edu.holycross.shot.latincorpus._\n",
    "import edu.holycross.shot.tabulae._"
   ]
  },
  {
   "cell_type": "code",
   "execution_count": null,
   "metadata": {},
   "outputs": [],
   "source": [
    "val hyginusUrl = \"https://raw.githubusercontent.com/LinguaLatina/analysis/master/data/hyginus/hyginus-latc.cex\"\n",
    "val hyginus = LatinCorpus.fromUrl(hyginusUrl)"
   ]
  },
  {
   "cell_type": "code",
   "execution_count": null,
   "metadata": {},
   "outputs": [],
   "source": [
    "// Define all the properties we can search on.\n",
    "// P\n",
    "val first = ClassifiedValue(PersonValues, First)\n",
    "val second = ClassifiedValue(PersonValues, First)\n",
    "val third = ClassifiedValue(PersonValues, Third)\n",
    "// N\n",
    "val singular = ClassifiedValue(GrammaticalNumberValues, Singular)\n",
    "val plural = ClassifiedValue(GrammaticalNumberValues, Plural)\n",
    "// T\n",
    "val present = ClassifiedValue(TenseValues, Present)\n",
    "val future = ClassifiedValue(TenseValues, Future)\n",
    "val imperfect = ClassifiedValue(TenseValues, Imperfect)\n",
    "val perfect = ClassifiedValue(TenseValues, Perfect)\n",
    "val pluperfect = ClassifiedValue(TenseValues, Pluperfect)\n",
    "val futureperfect = ClassifiedValue(TenseValues, FuturePerfect)\n",
    "// M\n",
    "val indicative = ClassifiedValue(MoodValues, Indicative)\n",
    "val imperative = ClassifiedValue(MoodValues, Imperative)\n",
    "val subjunctive = ClassifiedValue(MoodValues, Subjunctive)\n",
    "// V\n",
    "val active = ClassifiedValue(VoiceValues, Active)\n",
    "val passive = ClassifiedValue(VoiceValues, Passive)\n",
    "// G\n",
    "val masculine = ClassifiedValue(GenderValues, Masculine)\n",
    "val feminine = ClassifiedValue(GenderValues, Feminine)\n",
    "val neuter = ClassifiedValue(GenderValues, Neuter)\n",
    "// C\n",
    "val nominative = ClassifiedValue(GrammaticalCaseValues, Nominative)\n",
    "val genitive = ClassifiedValue(GrammaticalCaseValues, Genitive)\n",
    "val dative = ClassifiedValue(GrammaticalCaseValues, Dative)\n",
    "val accusative = ClassifiedValue(GrammaticalCaseValues, Accusative)\n",
    "val ablative = ClassifiedValue(GrammaticalCaseValues, Ablative)\n",
    "val vocative = ClassifiedValue(GrammaticalCaseValues, Vocative)\n",
    "// Degree\n",
    "val positive = ClassifiedValue(DegreeValues, Positive)\n",
    "val comparative = ClassifiedValue(DegreeValues, Comparative)\n",
    "val superlative = ClassifiedValue(DegreeValues, Superlative)"
   ]
  },
  {
   "cell_type": "code",
   "execution_count": null,
   "metadata": {},
   "outputs": [],
   "source": [
    "def matchProperties(propertyList: List[ClassifiedValue]) = {\n",
    "  //println(\"Searching for lexical tokens matching \" +  + \" property/ies.\\n\") \n",
    "  val cns = hyginus.citableUnits.sequences.filter(cn => cn.andMorphMatches(propertyList.toVector))\n",
    "  val header = s\"<h3>For ${propertyList.size} properties, matched \" + cns.size + \" citable passages</h3>\"\n",
    "                                                  \n",
    "  val bullets = for ((cn) <- cns) yield {\n",
    "    val txt = cn.lexicalText.mkString(\" \")\n",
    "    s\"<li>${txt}</li>\"\n",
    "  }\n",
    "  Html(header + \"<ol>\" + bullets.mkString(\"\\n\") + \"</ol>\")\n",
    "                                         \n",
    "}\n"
   ]
  },
  {
   "cell_type": "code",
   "execution_count": null,
   "metadata": {},
   "outputs": [],
   "source": []
  }
 ],
 "metadata": {
  "kernelspec": {
   "display_name": "Scala (2.12)",
   "language": "scala",
   "name": "scala212"
  },
  "language_info": {
   "codemirror_mode": "text/x-scala",
   "file_extension": ".scala",
   "mimetype": "text/x-scala",
   "name": "scala",
   "nbconvert_exporter": "script",
   "version": "2.12.10"
  },
  "nteract": {
   "version": "0.24.0"
  }
 },
 "nbformat": 4,
 "nbformat_minor": 4
}
