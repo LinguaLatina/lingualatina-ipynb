{
 "cells": [
  {
   "cell_type": "markdown",
   "metadata": {},
   "source": [
    "# Textbook coverage of vocabulary in Hyginus, *Fabulae*\n",
    "\n",
    "Read vocabulary lists for L3 textbook, compute percentage of total tokens in Hyginus (excluding proper names) covered by accumulated vocabulary for each unit."
   ]
  },
  {
   "cell_type": "markdown",
   "metadata": {},
   "source": [
    "# Step 2: display coverage"
   ]
  },
  {
   "cell_type": "code",
   "execution_count": null,
   "metadata": {},
   "outputs": [],
   "source": [
    "survey"
   ]
  },
  {
   "cell_type": "markdown",
   "metadata": {},
   "source": [
    "# Step 1: load everything\n"
   ]
  },
  {
   "cell_type": "code",
   "execution_count": null,
   "metadata": {},
   "outputs": [],
   "source": [
    "// Survey all vocab files in this list:\n",
    "val vocabFiles : Map[Int, String] = Map(\n",
    "  1 -> \"https://raw.githubusercontent.com/LinguaLatina/textbook/master/vocablists/01-nouns-adjs-pron.cex\",\n",
    "  2 -> \"https://raw.githubusercontent.com/LinguaLatina/textbook/master/vocablists/02-verbs.cex\",\n",
    "  3 -> \"https://raw.githubusercontent.com/LinguaLatina/textbook/master/vocablists/03-place-and-time.cex\",\n",
    "  4 -> \"https://raw.githubusercontent.com/LinguaLatina/textbook/master/vocablists/04-verbal-nouns-and-adjectives.cex\",\n",
    "  5 -> \"https://raw.githubusercontent.com/LinguaLatina/textbook/master/vocablists/05-questions.cex\",\n",
    "  6 -> \"https://raw.githubusercontent.com/LinguaLatina/textbook/master/vocablists/06-indirect-statement.cex\",\n",
    "  7 -> \"https://raw.githubusercontent.com/LinguaLatina/textbook/master/vocablists/07-miscellany.cex\"\n",
    ")"
   ]
  },
  {
   "cell_type": "code",
   "execution_count": null,
   "metadata": {},
   "outputs": [],
   "source": [
    "// set up notebook to find repository\n",
    "val personalRepo = coursierapi.MavenRepository.of(\"https://dl.bintray.com/neelsmith/maven\")\n",
    "interp.repositories() ++= Seq(personalRepo)"
   ]
  },
  {
   "cell_type": "code",
   "execution_count": null,
   "metadata": {},
   "outputs": [],
   "source": [
    "// ivy imports\n",
    "import $ivy.`edu.holycross.shot::latincorpus:7.0.0-pr5`"
   ]
  },
  {
   "cell_type": "code",
   "execution_count": null,
   "metadata": {},
   "outputs": [],
   "source": [
    "import edu.holycross.shot.latincorpus._\n",
    "import scala.io.Source"
   ]
  },
  {
   "cell_type": "code",
   "execution_count": null,
   "metadata": {},
   "outputs": [],
   "source": [
    "val hyginusUrl = \"https://raw.githubusercontent.com/LinguaLatina/analysis/master/data/hyginus/hyginus-latc.cex\"\n",
    "val hyginus = LatinCorpus.fromUrl(hyginusUrl)"
   ]
  },
  {
   "cell_type": "code",
   "execution_count": null,
   "metadata": {},
   "outputs": [],
   "source": [
    "val tokens = hyginus.tokens.filter(_.text.head.isLower)\n",
    "\n",
    "val total = tokens.size\n",
    "\n",
    "val gross = hyginus.lexicalTokens.size\n",
    "val totalAnalyzed = tokens.filter(_.analyses.nonEmpty).size\n",
    "\n",
    "val analysisCoverage = (totalAnalyzed * 1.0 / total) * 100\n",
    "val analysisPct = BigDecimal(analysisCoverage).setScale(1, BigDecimal.RoundingMode.HALF_UP).toDouble\n"
   ]
  },
  {
   "cell_type": "code",
   "execution_count": null,
   "metadata": {},
   "outputs": [],
   "source": [
    "\n"
   ]
  },
  {
   "cell_type": "code",
   "execution_count": null,
   "metadata": {},
   "outputs": [],
   "source": [
    "// Omit these IDs until parser recompiled\n",
    "val tempOmit = List(\n",
    "  \"ls.n49983\", \n",
    "  \"ls.n40071\",\n",
    "  \"ls.n25107\", \n",
    "  \"ls.n28700\",\n",
    "  \"ls.38383\", \n",
    "  \"ls.n40913\",\n",
    "  \"ls.n30584\", // -ne\n",
    "  \"ls.n31181\", // nonne\n",
    "  \"ls.n31181\", // num\n",
    "  \"ls.n19471\", // genu\n",
    "  \"s.n27977\" // some kind of typo\n",
    ")\n",
    "\n",
    "def vocabForUnit(vocabUnit: Int): Vector[String] = {\n",
    "  val vocab = for (i <- 1 to vocabUnit) yield {\n",
    "    val lines = Source.fromURL(vocabFiles(i))\n",
    "    val lexemeIds = lines.getLines.toVector.tail.filter(_.nonEmpty).map( ln => {\n",
    "      val columns = ln.split(\"#\")\n",
    "      val idParts = columns.head.split(\":\")\n",
    "      idParts.head\n",
    "    })\n",
    "    lexemeIds\n",
    "  }\n",
    "  vocab.toVector.flatten.filterNot(v => tempOmit.contains(v))\n",
    "}\n",
    "\n",
    "def unitCoverage(vocabUnit: Int) = {\n",
    "  val counts = vocabForUnit(vocabUnit).map(lex => hyginus.passagesForLexeme(lex).size)\n",
    "  val unitCoverage = (counts.sum * 1.0 / total) * 100\n",
    "  val grossCoverage = (counts.sum * 1.0 / gross) * 100\n",
    "  val unitPct = BigDecimal(unitCoverage).setScale(1, BigDecimal.RoundingMode.HALF_UP).toDouble\n",
    "  val grossPct =   BigDecimal(grossCoverage).setScale(1, BigDecimal.RoundingMode.HALF_UP).toDouble\n",
    "  (unitPct, counts.size, grossPct)\n",
    "}\n"
   ]
  },
  {
   "cell_type": "code",
   "execution_count": null,
   "metadata": {},
   "outputs": [],
   "source": [
    "def survey = {\n",
    "  val rows = for (i <- 1 to vocabFiles.size) yield {\n",
    "    print(\"Computing coverage of unit \" + i + \" ... \")\n",
    "    val (pct, vocabSize, grossPct) = unitCoverage(i)\n",
    "    println(pct + \"%\")\n",
    "    \"<tr>\"+\n",
    "    s\"<td>Vocabulary through unit ${i} vocabulary</td>\" +\n",
    "    s\"<td><strong>${pct}%</strong> (without proper names)</td>\" +\n",
    "    s\"<td><strong>${grossPct}%</strong> (all)</td>\" +\n",
    "    s\"<td><strong>${vocabSize}</strong> vocabulary items</td>\" +\n",
    "    \"</tr>\"\n",
    "  }\n",
    "  \n",
    "  val header = \"<h2>L3 vocabulary lists: coverage of Hyginus</h2>\"\n",
    "  val tableHeader = \"<tr><th>Unit</th><th>Pct. excluding proper names</th><th>Pct. (all)<th>Vocabulary items</th></tr>\"\n",
    "  Html(header + \"<table>\"  + tableHeader + rows.mkString(\"\\n\") + \"</table>\")\n",
    "}"
   ]
  },
  {
   "cell_type": "code",
   "execution_count": null,
   "metadata": {},
   "outputs": [],
   "source": []
  }
 ],
 "metadata": {
  "kernelspec": {
   "display_name": "Scala (2.12)",
   "language": "scala",
   "name": "scala212"
  },
  "language_info": {
   "codemirror_mode": "text/x-scala",
   "file_extension": ".scala",
   "mimetype": "text/x-scala",
   "name": "scala",
   "nbconvert_exporter": "script",
   "version": "2.12.10"
  },
  "nteract": {
   "version": "0.24.0"
  }
 },
 "nbformat": 4,
 "nbformat_minor": 4
}
