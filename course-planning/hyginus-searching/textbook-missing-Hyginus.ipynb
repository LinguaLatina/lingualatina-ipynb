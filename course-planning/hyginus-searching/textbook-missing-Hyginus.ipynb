{
 "cells": [
  {
   "cell_type": "markdown",
   "metadata": {},
   "source": [
    "# Frequent vocabulary in Hyginus, *Fabulae*, not covered in L3 textbook\n",
    "\n",
    "First run **Step 1: load everything**\n",
    "\n",
    "Then, set values for vocabulary unit to include (cumulative vocabulary though this unit), and percentage of Hyginus to compare to.\n",
    "\n",
    "E.g.:  setting `vocabUnit` to 4 and `pctOfHyginus` to 80 computes all the vocabulary items needed to cover 80% of the tokens in Hyginus that are **not** covered in units 1-4 of the L3 vocabulary lists, and shows you how many tokens in Hyginus are identified as possibly from this vocabulary item.\n",
    "\n",
    "**NB**:  lexically ambiguous forms are counted under *all* possible lexemes, e.g., identical forms of the relative and interrogative pronouns are counted under *both*.  As a result, the total number of *possible occurrences* is greater than then total number of tokens in Hyginus."
   ]
  },
  {
   "cell_type": "markdown",
   "metadata": {},
   "source": [
    "# Step 2: display missing vocabulary"
   ]
  },
  {
   "cell_type": "code",
   "execution_count": 20,
   "metadata": {},
   "outputs": [
    {
     "data": {
      "text/html": [
       "<h2>Most frequent vocabulary <em>not</em> covered</h2><p>All vocabulary covering the top <strong>80</strong>% of tokens in Hyginus but <strong>not</strong> covered in L3 vocabulary lists <strong>through unit 5</strong> (<strong>177</strong> vocabulary items).  <table><h3>122 vocabulary items</h3><tr><th>ID:lemma</th><th>Occurrences</th></tr><tr><td><a href=\"http://folio2.furman.edu/lewis-short/index.html?urn=urn:cite2:hmt:ls.markdown:n46498:sui\">ls.n46498:sui</a></td><td>3768</td></tr>\n",
       "<tr><td><a href=\"http://folio2.furman.edu/lewis-short/index.html?urn=urn:cite2:hmt:ls.markdown:n25029:is\">ls.n25029:is</a></td><td>1935</td></tr>\n",
       "<tr><td><a href=\"http://folio2.furman.edu/lewis-short/index.html?urn=urn:cite2:hmt:ls.markdown:n47174:suus\">ls.n47174:suus</a></td><td>786</td></tr>\n",
       "<tr><td><a href=\"http://folio2.furman.edu/lewis-short/index.html?urn=urn:cite2:hmt:ls.markdown:n49975:ut\">ls.n49975:ut</a></td><td>218</td></tr>\n",
       "<tr><td><a href=\"http://folio2.furman.edu/lewis-short/index.html?urn=urn:cite2:hmt:ls.markdown:n15868:eo1\">ls.n15868:eo1</a></td><td>208</td></tr>\n",
       "<tr><td><a href=\"http://folio2.furman.edu/lewis-short/index.html?urn=urn:cite2:hmt:ls.markdown:n21343:idem\">ls.n21343:idem</a></td><td>184</td></tr>\n",
       "<tr><td><a href=\"http://folio2.furman.edu/lewis-short/index.html?urn=urn:cite2:hmt:ls.markdown:n30423:nascor\">ls.n30423:nascor</a></td><td>139</td></tr>\n",
       "<tr><td><a href=\"http://folio2.furman.edu/lewis-short/index.html?urn=urn:cite2:hmt:ls.markdown:n41387:respondeo\">ls.n41387:respondeo</a></td><td>138</td></tr>\n",
       "<tr><td><a href=\"http://folio2.furman.edu/lewis-short/index.html?urn=urn:cite2:hmt:ls.markdown:n4633:autem\">ls.n4633:autem</a></td><td>136</td></tr>\n",
       "<tr><td><a href=\"http://folio2.furman.edu/lewis-short/index.html?urn=urn:cite2:hmt:ls.markdown:n42157:sacer\">ls.n42157:sacer</a></td><td>136</td></tr>\n",
       "<tr><td><a href=\"http://folio2.furman.edu/lewis-short/index.html?urn=urn:cite2:hmt:ls.markdown:n10349:conjugium\">ls.n10349:conjugium</a></td><td>132</td></tr>\n",
       "<tr><td><a href=\"http://folio2.furman.edu/lewis-short/index.html?urn=urn:cite2:hmt:ls.markdown:n24040:insula1\">ls.n24040:insula1</a></td><td>106</td></tr>\n",
       "<tr><td><a href=\"http://folio2.furman.edu/lewis-short/index.html?urn=urn:cite2:hmt:ls.markdown:n41293:res\">ls.n41293:res</a></td><td>98</td></tr>\n",
       "<tr><td><a href=\"http://folio2.furman.edu/lewis-short/index.html?urn=urn:cite2:hmt:ls.markdown:n13847:dies\">ls.n13847:dies</a></td><td>97</td></tr>\n",
       "<tr><td><a href=\"http://folio2.furman.edu/lewis-short/index.html?urn=urn:cite2:hmt:ls.markdown:n49871:unus\">ls.n49871:unus</a></td><td>95</td></tr>\n",
       "<tr><td><a href=\"http://folio2.furman.edu/lewis-short/index.html?urn=urn:cite2:hmt:ls.markdown:n9942:concumbo\">ls.n9942:concumbo</a></td><td>95</td></tr>\n",
       "<tr><td><a href=\"http://folio2.furman.edu/lewis-short/index.html?urn=urn:cite2:hmt:ls.markdown:n10361:conjunx\">ls.n10361:conjunx</a></td><td>92</td></tr>\n",
       "<tr><td><a href=\"http://folio2.furman.edu/lewis-short/index.html?urn=urn:cite2:hmt:ls.markdown:n44562:socius\">ls.n44562:socius</a></td><td>90</td></tr>\n",
       "<tr><td><a href=\"http://folio2.furman.edu/lewis-short/index.html?urn=urn:cite2:hmt:ls.markdown:n48358:timeo\">ls.n48358:timeo</a></td><td>90</td></tr>\n",
       "<tr><td><a href=\"http://folio2.furman.edu/lewis-short/index.html?urn=urn:cite2:hmt:ls.markdown:n31419:numerus\">ls.n31419:numerus</a></td><td>88</td></tr>\n",
       "<tr><td><a href=\"http://folio2.furman.edu/lewis-short/index.html?urn=urn:cite2:hmt:ls.markdown:n29733:mortalis\">ls.n29733:mortalis</a></td><td>87</td></tr>\n",
       "<tr><td><a href=\"http://folio2.furman.edu/lewis-short/index.html?urn=urn:cite2:hmt:ls.markdown:n51298:volo1\">ls.n51298:volo1</a></td><td>84</td></tr>\n",
       "<tr><td><a href=\"http://folio2.furman.edu/lewis-short/index.html?urn=urn:cite2:hmt:ls.markdown:n39941:quaero\">ls.n39941:quaero</a></td><td>84</td></tr>\n",
       "<tr><td><a href=\"http://folio2.furman.edu/lewis-short/index.html?urn=urn:cite2:hmt:ls.markdown:n1392:aestimo\">ls.n1392:aestimo</a></td><td>83</td></tr>\n",
       "<tr><td><a href=\"http://folio2.furman.edu/lewis-short/index.html?urn=urn:cite2:hmt:ls.markdown:null\">ls.null</a></td><td>82</td></tr>\n",
       "<tr><td><a href=\"http://folio2.furman.edu/lewis-short/index.html?urn=urn:cite2:hmt:ls.markdown:n8938:cognosco\">ls.n8938:cognosco</a></td><td>81</td></tr>\n",
       "<tr><td><a href=\"http://folio2.furman.edu/lewis-short/index.html?urn=urn:cite2:hmt:ls.markdown:n43703:sepelio\">ls.n43703:sepelio</a></td><td>78</td></tr>\n",
       "<tr><td><a href=\"http://folio2.furman.edu/lewis-short/index.html?urn=urn:cite2:hmt:ls.markdown:n44608:soleo\">ls.n44608:soleo</a></td><td>75</td></tr>\n",
       "<tr><td><a href=\"http://folio2.furman.edu/lewis-short/index.html?urn=urn:cite2:hmt:ls.markdown:n8883:coepio\">ls.n8883:coepio</a></td><td>73</td></tr>\n",
       "<tr><td><a href=\"http://folio2.furman.edu/lewis-short/index.html?urn=urn:cite2:hmt:ls.markdown:n2260:amitto\">ls.n2260:amitto</a></td><td>70</td></tr>\n",
       "<tr><td><a href=\"http://folio2.furman.edu/lewis-short/index.html?urn=urn:cite2:hmt:ls.markdown:n25264:jubeo\">ls.n25264:jubeo</a></td><td>69</td></tr>\n",
       "<tr><td><a href=\"http://folio2.furman.edu/lewis-short/index.html?urn=urn:cite2:hmt:ls.markdown:n6506:canis1\">ls.n6506:canis1</a></td><td>69</td></tr>\n",
       "<tr><td><a href=\"http://folio2.furman.edu/lewis-short/index.html?urn=urn:cite2:hmt:ls.markdown:n24885:irascor\">ls.n24885:irascor</a></td><td>69</td></tr>\n",
       "<tr><td><a href=\"http://folio2.furman.edu/lewis-short/index.html?urn=urn:cite2:hmt:ls.markdown:n21043:humanus\">ls.n21043:humanus</a></td><td>68</td></tr>\n",
       "<tr><td><a href=\"http://folio2.furman.edu/lewis-short/index.html?urn=urn:cite2:hmt:ls.markdown:n14914:duo\">ls.n14914:duo</a></td><td>67</td></tr>\n",
       "<tr><td><a href=\"http://folio2.furman.edu/lewis-short/index.html?urn=urn:cite2:hmt:ls.markdown:n24717:invenio\">ls.n24717:invenio</a></td><td>64</td></tr>\n",
       "<tr><td><a href=\"http://folio2.furman.edu/lewis-short/index.html?urn=urn:cite2:hmt:ls.markdown:n42158:sacerdos1\">ls.n42158:sacerdos1</a></td><td>64</td></tr>\n",
       "<tr><td><a href=\"http://folio2.furman.edu/lewis-short/index.html?urn=urn:cite2:hmt:ls.markdown:n40905:regius\">ls.n40905:regius</a></td><td>63</td></tr>\n",
       "<tr><td><a href=\"http://folio2.furman.edu/lewis-short/index.html?urn=urn:cite2:hmt:ls.markdown:n37010:pono\">ls.n37010:pono</a></td><td>63</td></tr>\n",
       "<tr><td><a href=\"http://folio2.furman.edu/lewis-short/index.html?urn=urn:cite2:hmt:ls.markdown:n47727:templum\">ls.n47727:templum</a></td><td>62</td></tr>\n",
       "<tr><td><a href=\"http://folio2.furman.edu/lewis-short/index.html?urn=urn:cite2:hmt:ls.markdown:n48969:tres\">ls.n48969:tres</a></td><td>60</td></tr>\n",
       "<tr><td><a href=\"http://folio2.furman.edu/lewis-short/index.html?urn=urn:cite2:hmt:ls.markdown:n15326:ego\">ls.n15326:ego</a></td><td>60</td></tr>\n",
       "<tr><td><a href=\"http://folio2.furman.edu/lewis-short/index.html?urn=urn:cite2:hmt:ls.markdown:n11004:converto\">ls.n11004:converto</a></td><td>59</td></tr>\n",
       "<tr><td><a href=\"http://folio2.furman.edu/lewis-short/index.html?urn=urn:cite2:hmt:ls.markdown:n11525:credo\">ls.n11525:credo</a></td><td>59</td></tr>\n",
       "<tr><td><a href=\"http://folio2.furman.edu/lewis-short/index.html?urn=urn:cite2:hmt:ls.markdown:n34067:pastor\">ls.n34067:pastor</a></td><td>58</td></tr>\n",
       "<tr><td><a href=\"http://folio2.furman.edu/lewis-short/index.html?urn=urn:cite2:hmt:ls.markdown:n23109:infans\">ls.n23109:infans</a></td><td>58</td></tr>\n",
       "<tr><td><a href=\"http://folio2.furman.edu/lewis-short/index.html?urn=urn:cite2:hmt:ls.markdown:n10770:contendo\">ls.n10770:contendo</a></td><td>57</td></tr>\n",
       "<tr><td><a href=\"http://folio2.furman.edu/lewis-short/index.html?urn=urn:cite2:hmt:ls.markdown:n12677:defero\">ls.n12677:defero</a></td><td>57</td></tr>\n",
       "<tr><td><a href=\"http://folio2.furman.edu/lewis-short/index.html?urn=urn:cite2:hmt:ls.markdown:n43803:sepultura\">ls.n43803:sepultura</a></td><td>55</td></tr>\n",
       "<tr><td><a href=\"http://folio2.furman.edu/lewis-short/index.html?urn=urn:cite2:hmt:ls.markdown:n16074:equus\">ls.n16074:equus</a></td><td>54</td></tr>\n",
       "<tr><td><a href=\"http://folio2.furman.edu/lewis-short/index.html?urn=urn:cite2:hmt:ls.markdown:n31628:obicio\">ls.n31628:obicio</a></td><td>54</td></tr>\n",
       "<tr><td><a href=\"http://folio2.furman.edu/lewis-short/index.html?urn=urn:cite2:hmt:ls.markdown:n48671:trado\">ls.n48671:trado</a></td><td>54</td></tr>\n",
       "<tr><td><a href=\"http://folio2.furman.edu/lewis-short/index.html?urn=urn:cite2:hmt:ls.markdown:n44227:signum\">ls.n44227:signum</a></td><td>52</td></tr>\n",
       "<tr><td><a href=\"http://folio2.furman.edu/lewis-short/index.html?urn=urn:cite2:hmt:ls.markdown:n14774a:draco1\">ls.n14774a:draco1</a></td><td>52</td></tr>\n",
       "<tr><td><a href=\"http://folio2.furman.edu/lewis-short/index.html?urn=urn:cite2:hmt:ls.markdown:n33879:pario2\">ls.n33879:pario2</a></td><td>52</td></tr>\n",
       "<tr><td><a href=\"http://folio2.furman.edu/lewis-short/index.html?urn=urn:cite2:hmt:ls.markdown:n31537:nympha\">ls.n31537:nympha</a></td><td>50</td></tr>\n",
       "<tr><td><a href=\"http://folio2.furman.edu/lewis-short/index.html?urn=urn:cite2:hmt:ls.markdown:n10701:consumo\">ls.n10701:consumo</a></td><td>49</td></tr>\n",
       "<tr><td><a href=\"http://folio2.furman.edu/lewis-short/index.html?urn=urn:cite2:hmt:ls.markdown:n26488:libet\">ls.n26488:libet</a></td><td>49</td></tr>\n",
       "<tr><td><a href=\"http://folio2.furman.edu/lewis-short/index.html?urn=urn:cite2:hmt:ls.markdown:n3492:ardeo\">ls.n3492:ardeo</a></td><td>48</td></tr>\n",
       "<tr><td><a href=\"http://folio2.furman.edu/lewis-short/index.html?urn=urn:cite2:hmt:ls.markdown:n34312:pecus1\">ls.n34312:pecus1</a></td><td>48</td></tr>\n",
       "<tr><td><a href=\"http://folio2.furman.edu/lewis-short/index.html?urn=urn:cite2:hmt:ls.markdown:n18600:formosus\">ls.n18600:formosus</a></td><td>48</td></tr>\n",
       "<tr><td><a href=\"http://folio2.furman.edu/lewis-short/index.html?urn=urn:cite2:hmt:ls.markdown:n12628:dedo\">ls.n12628:dedo</a></td><td>48</td></tr>\n",
       "<tr><td><a href=\"http://folio2.furman.edu/lewis-short/index.html?urn=urn:cite2:hmt:ls.markdown:n19053:funebris\">ls.n19053:funebris</a></td><td>46</td></tr>\n",
       "<tr><td><a href=\"http://folio2.furman.edu/lewis-short/index.html?urn=urn:cite2:hmt:ls.markdown:n27776:malus1\">ls.n27776:malus1</a></td><td>46</td></tr>\n",
       "<tr><td><a href=\"http://folio2.furman.edu/lewis-short/index.html?urn=urn:cite2:hmt:ls.markdown:n42264:sagitta\">ls.n42264:sagitta</a></td><td>45</td></tr>\n",
       "<tr><td><a href=\"http://folio2.furman.edu/lewis-short/index.html?urn=urn:cite2:hmt:ls.markdown:n3665:arma\">ls.n3665:arma</a></td><td>44</td></tr>\n",
       "<tr><td><a href=\"http://folio2.furman.edu/lewis-short/index.html?urn=urn:cite2:hmt:ls.markdown:n44096:si\">ls.n44096:si</a></td><td>43</td></tr>\n",
       "<tr><td><a href=\"http://folio2.furman.edu/lewis-short/index.html?urn=urn:cite2:hmt:ls.markdown:n29707:morior\">ls.n29707:morior</a></td><td>42</td></tr>\n",
       "<tr><td><a href=\"http://folio2.furman.edu/lewis-short/index.html?urn=urn:cite2:hmt:ls.markdown:n32829:oppugno1\">ls.n32829:oppugno1</a></td><td>42</td></tr>\n",
       "<tr><td><a href=\"http://folio2.furman.edu/lewis-short/index.html?urn=urn:cite2:hmt:ls.markdown:n43947:servo\">ls.n43947:servo</a></td><td>42</td></tr>\n",
       "<tr><td><a href=\"http://folio2.furman.edu/lewis-short/index.html?urn=urn:cite2:hmt:ls.markdown:n45225:stadium\">ls.n45225:stadium</a></td><td>41</td></tr>\n",
       "<tr><td><a href=\"http://folio2.furman.edu/lewis-short/index.html?urn=urn:cite2:hmt:ls.markdown:n47473:tantus\">ls.n47473:tantus</a></td><td>41</td></tr>\n",
       "<tr><td><a href=\"http://folio2.furman.edu/lewis-short/index.html?urn=urn:cite2:hmt:ls.markdown:n30930:niger1\">ls.n30930:niger1</a></td><td>40</td></tr>\n",
       "<tr><td><a href=\"http://folio2.furman.edu/lewis-short/index.html?urn=urn:cite2:hmt:ls.markdown:n46609:super2\">ls.n46609:super2</a></td><td>40</td></tr>\n",
       "<tr><td><a href=\"http://folio2.furman.edu/lewis-short/index.html?urn=urn:cite2:hmt:ls.markdown:n5180:beneficium\">ls.n5180:beneficium</a></td><td>40</td></tr>\n",
       "<tr><td><a href=\"http://folio2.furman.edu/lewis-short/index.html?urn=urn:cite2:hmt:ls.markdown:n51069:virgo\">ls.n51069:virgo</a></td><td>39</td></tr>\n",
       "<tr><td><a href=\"http://folio2.furman.edu/lewis-short/index.html?urn=urn:cite2:hmt:ls.markdown:n37409:praecipio\">ls.n37409:praecipio</a></td><td>39</td></tr>\n",
       "<tr><td><a href=\"http://folio2.furman.edu/lewis-short/index.html?urn=urn:cite2:hmt:ls.markdown:n30583:ne1\">ls.n30583:ne1</a></td><td>39</td></tr>\n",
       "<tr><td><a href=\"http://folio2.furman.edu/lewis-short/index.html?urn=urn:cite2:hmt:ls.markdown:n3369:arbitro\">ls.n3369:arbitro</a></td><td>39</td></tr>\n",
       "<tr><td><a href=\"http://folio2.furman.edu/lewis-short/index.html?urn=urn:cite2:hmt:ls.markdown:n743:adduco\">ls.n743:adduco</a></td><td>39</td></tr>\n",
       "<tr><td><a href=\"http://folio2.furman.edu/lewis-short/index.html?urn=urn:cite2:hmt:ls.markdown:n32796:oppidum\">ls.n32796:oppidum</a></td><td>39</td></tr>\n",
       "<tr><td><a href=\"http://folio2.furman.edu/lewis-short/index.html?urn=urn:cite2:hmt:ls.markdown:n21333:ictus2\">ls.n21333:ictus2</a></td><td>38</td></tr>\n",
       "<tr><td><a href=\"http://folio2.furman.edu/lewis-short/index.html?urn=urn:cite2:hmt:ls.markdown:n40248:quisque\">ls.n40248:quisque</a></td><td>38</td></tr>\n",
       "<tr><td><a href=\"http://folio2.furman.edu/lewis-short/index.html?urn=urn:cite2:hmt:ls.markdown:n30017:munus\">ls.n30017:munus</a></td><td>38</td></tr>\n",
       "<tr><td><a href=\"http://folio2.furman.edu/lewis-short/index.html?urn=urn:cite2:hmt:ls.markdown:n13573:deus\">ls.n13573:deus</a></td><td>38</td></tr>\n",
       "<tr><td><a href=\"http://folio2.furman.edu/lewis-short/index.html?urn=urn:cite2:hmt:ls.markdown:n25350:jungo\">ls.n25350:jungo</a></td><td>37</td></tr>\n",
       "<tr><td><a href=\"http://folio2.furman.edu/lewis-short/index.html?urn=urn:cite2:hmt:ls.markdown:n9689:comprimo\">ls.n9689:comprimo</a></td><td>37</td></tr>\n",
       "<tr><td><a href=\"http://folio2.furman.edu/lewis-short/index.html?urn=urn:cite2:hmt:ls.markdown:n10632:constituo\">ls.n10632:constituo</a></td><td>37</td></tr>\n",
       "<tr><td><a href=\"http://folio2.furman.edu/lewis-short/index.html?urn=urn:cite2:hmt:ls.markdown:n34595:per1\">ls.n34595:per1</a></td><td>37</td></tr>\n",
       "<tr><td><a href=\"http://folio2.furman.edu/lewis-short/index.html?urn=urn:cite2:hmt:ls.markdown:n43273:secundus1\">ls.n43273:secundus1</a></td><td>36</td></tr>\n",
       "<tr><td><a href=\"http://folio2.furman.edu/lewis-short/index.html?urn=urn:cite2:hmt:ls.markdown:n18127:fides1\">ls.n18127:fides1</a></td><td>36</td></tr>\n",
       "<tr><td><a href=\"http://folio2.furman.edu/lewis-short/index.html?urn=urn:cite2:hmt:ls.markdown:n31035:nitor1\">ls.n31035:nitor1</a></td><td>36</td></tr>\n",
       "<tr><td><a href=\"http://folio2.furman.edu/lewis-short/index.html?urn=urn:cite2:hmt:ls.markdown:n38383:pro1\">ls.n38383:pro1</a></td><td>36</td></tr>\n",
       "<tr><td><a href=\"http://folio2.furman.edu/lewis-short/index.html?urn=urn:cite2:hmt:ls.markdown:n23173:inferus\">ls.n23173:inferus</a></td><td>36</td></tr>\n",
       "<tr><td><a href=\"http://folio2.furman.edu/lewis-short/index.html?urn=urn:cite2:hmt:ls.markdown:n8112:circuitus2\">ls.n8112:circuitus2</a></td><td>36</td></tr>\n",
       "<tr><td><a href=\"http://folio2.furman.edu/lewis-short/index.html?urn=urn:cite2:hmt:ls.markdown:n25409:jussus2\">ls.n25409:jussus2</a></td><td>36</td></tr>\n",
       "<tr><td><a href=\"http://folio2.furman.edu/lewis-short/index.html?urn=urn:cite2:hmt:ls.markdown:n18566:forma\">ls.n18566:forma</a></td><td>35</td></tr>\n",
       "<tr><td><a href=\"http://folio2.furman.edu/lewis-short/index.html?urn=urn:cite2:hmt:ls.markdown:n37207:posterus\">ls.n37207:posterus</a></td><td>35</td></tr>\n",
       "<tr><td><a href=\"http://folio2.furman.edu/lewis-short/index.html?urn=urn:cite2:hmt:ls.markdown:n4547:aureus\">ls.n4547:aureus</a></td><td>35</td></tr>\n",
       "<tr><td><a href=\"http://folio2.furman.edu/lewis-short/index.html?urn=urn:cite2:hmt:ls.markdown:n44347:simulo\">ls.n44347:simulo</a></td><td>34</td></tr>\n",
       "<tr><td><a href=\"http://folio2.furman.edu/lewis-short/index.html?urn=urn:cite2:hmt:ls.markdown:n4714:avis\">ls.n4714:avis</a></td><td>34</td></tr>\n",
       "<tr><td><a href=\"http://folio2.furman.edu/lewis-short/index.html?urn=urn:cite2:hmt:ls.markdown:n21752:immolo\">ls.n21752:immolo</a></td><td>34</td></tr>\n",
       "<tr><td><a href=\"http://folio2.furman.edu/lewis-short/index.html?urn=urn:cite2:hmt:ls.markdown:n24154:inter1\">ls.n24154:inter1</a></td><td>34</td></tr>\n",
       "<tr><td><a href=\"http://folio2.furman.edu/lewis-short/index.html?urn=urn:cite2:hmt:ls.markdown:n4588:aurum\">ls.n4588:aurum</a></td><td>34</td></tr>\n",
       "<tr><td><a href=\"http://folio2.furman.edu/lewis-short/index.html?urn=urn:cite2:hmt:ls.markdown:n28367:medius1\">ls.n28367:medius1</a></td><td>34</td></tr>\n",
       "<tr><td><a href=\"http://folio2.furman.edu/lewis-short/index.html?urn=urn:cite2:hmt:ls.markdown:n21916:impetro\">ls.n21916:impetro</a></td><td>34</td></tr>\n",
       "<tr><td><a href=\"http://folio2.furman.edu/lewis-short/index.html?urn=urn:cite2:hmt:ls.markdown:n38498:procreo\">ls.n38498:procreo</a></td><td>34</td></tr>\n",
       "<tr><td><a href=\"http://folio2.furman.edu/lewis-short/index.html?urn=urn:cite2:hmt:ls.markdown:n42918:scelus\">ls.n42918:scelus</a></td><td>34</td></tr>\n",
       "<tr><td><a href=\"http://folio2.furman.edu/lewis-short/index.html?urn=urn:cite2:hmt:ls.markdown:n29724:mors\">ls.n29724:mors</a></td><td>33</td></tr>\n",
       "<tr><td><a href=\"http://folio2.furman.edu/lewis-short/index.html?urn=urn:cite2:hmt:ls.markdown:n30624:neco\">ls.n30624:neco</a></td><td>33</td></tr>\n",
       "<tr><td><a href=\"http://folio2.furman.edu/lewis-short/index.html?urn=urn:cite2:hmt:ls.markdown:n17677:famulus1\">ls.n17677:famulus1</a></td><td>32</td></tr>\n",
       "<tr><td><a href=\"http://folio2.furman.edu/lewis-short/index.html?urn=urn:cite2:hmt:ls.markdown:n40719:redeo\">ls.n40719:redeo</a></td><td>32</td></tr>\n",
       "<tr><td><a href=\"http://folio2.furman.edu/lewis-short/index.html?urn=urn:cite2:hmt:ls.markdown:n41838:rogo\">ls.n41838:rogo</a></td><td>32</td></tr>\n",
       "<tr><td><a href=\"http://folio2.furman.edu/lewis-short/index.html?urn=urn:cite2:hmt:ls.markdown:n51238:vivo\">ls.n51238:vivo</a></td><td>32</td></tr>\n",
       "<tr><td><a href=\"http://folio2.furman.edu/lewis-short/index.html?urn=urn:cite2:hmt:ls.markdown:n47944:tertius\">ls.n47944:tertius</a></td><td>32</td></tr>\n",
       "<tr><td><a href=\"http://folio2.furman.edu/lewis-short/index.html?urn=urn:cite2:hmt:ls.markdown:n7021:casus1\">ls.n7021:casus1</a></td><td>32</td></tr>\n",
       "<tr><td><a href=\"http://folio2.furman.edu/lewis-short/index.html?urn=urn:cite2:hmt:ls.markdown:n40113:quidam\">ls.n40113:quidam</a></td><td>31</td></tr>\n",
       "<tr><td><a href=\"http://folio2.furman.edu/lewis-short/index.html?urn=urn:cite2:hmt:ls.markdown:n3697:armo\">ls.n3697:armo</a></td><td>31</td></tr>\n",
       "<tr><td><a href=\"http://folio2.furman.edu/lewis-short/index.html?urn=urn:cite2:hmt:ls.markdown:n18993:fulmen\">ls.n18993:fulmen</a></td><td>31</td></tr>\n",
       "<tr><td><a href=\"http://folio2.furman.edu/lewis-short/index.html?urn=urn:cite2:hmt:ls.markdown:n38534:procus2\">ls.n38534:procus2</a></td><td>31</td></tr>\n",
       "<tr><td><a href=\"http://folio2.furman.edu/lewis-short/index.html?urn=urn:cite2:hmt:ls.markdown:n38619:proficisco\">ls.n38619:proficisco</a></td><td>30</td></tr>\n",
       "<tr><td><a href=\"http://folio2.furman.edu/lewis-short/index.html?urn=urn:cite2:hmt:ls.markdown:n27171:ludus\">ls.n27171:ludus</a></td><td>30</td></tr></table>"
      ]
     },
     "metadata": {},
     "output_type": "display_data"
    },
    {
     "data": {
      "text/plain": [
       "\u001b[36mpctOfHyginus\u001b[39m: \u001b[32mInt\u001b[39m = \u001b[32m80\u001b[39m\n",
       "\u001b[36mvocabUnit\u001b[39m: \u001b[32mInt\u001b[39m = \u001b[32m5\u001b[39m"
      ]
     },
     "execution_count": 20,
     "metadata": {},
     "output_type": "execute_result"
    }
   ],
   "source": [
    "val pctOfHyginus = 80\n",
    "val vocabUnit = 5\n",
    "missingVocab(pctOfHyginus, vocabUnit)"
   ]
  },
  {
   "cell_type": "markdown",
   "metadata": {},
   "source": [
    "# Step 1: load everything\n"
   ]
  },
  {
   "cell_type": "code",
   "execution_count": null,
   "metadata": {},
   "outputs": [],
   "source": [
    "val vocabFiles : Map[Int, String] = Map(\n",
    "  1 -> \"https://raw.githubusercontent.com/LinguaLatina/textbook/master/vocablists/01-nouns-adjs-pron.cex\",\n",
    "  2 -> \"https://raw.githubusercontent.com/LinguaLatina/textbook/master/vocablists/02-verbs.cex\",\n",
    "  3 -> \"https://raw.githubusercontent.com/LinguaLatina/textbook/master/vocablists/03-place-and-time.cex\",\n",
    "  4 -> \"https://raw.githubusercontent.com/LinguaLatina/textbook/master/vocablists/04-verbal-nouns-and-adjectives.cex\",\n",
    "  5 -> \"https://raw.githubusercontent.com/LinguaLatina/textbook/master/vocablists/05-questions.cex\"\n",
    ")"
   ]
  },
  {
   "cell_type": "code",
   "execution_count": null,
   "metadata": {},
   "outputs": [],
   "source": [
    "// set up notebook to find repository\n",
    "val personalRepo = coursierapi.MavenRepository.of(\"https://dl.bintray.com/neelsmith/maven\")\n",
    "interp.repositories() ++= Seq(personalRepo)"
   ]
  },
  {
   "cell_type": "code",
   "execution_count": null,
   "metadata": {},
   "outputs": [],
   "source": [
    "// ivy imports\n",
    "import $ivy.`edu.holycross.shot::latincorpus:7.0.0-pr5`\n",
    "import $ivy.`edu.holycross.shot::histoutils:2.3.0`\n",
    "import $ivy.`edu.holycross.shot::tabulae:7.0.5`"
   ]
  },
  {
   "cell_type": "code",
   "execution_count": null,
   "metadata": {},
   "outputs": [],
   "source": [
    "import scala.io.Source\n",
    "import edu.holycross.shot.latincorpus._\n",
    "import edu.holycross.shot.histoutils._\n",
    "import edu.holycross.shot.tabulae._"
   ]
  },
  {
   "cell_type": "code",
   "execution_count": null,
   "metadata": {},
   "outputs": [],
   "source": [
    "val hyginusUrl = \"https://raw.githubusercontent.com/LinguaLatina/analysis/master/data/hyginus/hyginus-latc.cex\"\n",
    "val hyginus = LatinCorpus.fromUrl(hyginusUrl)"
   ]
  },
  {
   "cell_type": "code",
   "execution_count": null,
   "metadata": {},
   "outputs": [],
   "source": [
    "val lcCorpus = LatinCorpus(hyginus.tokens.filter(_.text.head.isLower))\n",
    "val lexemesHist = lcCorpus.lexemesHistogram\n",
    "val lsLexemesHist = Histogram(lexemesHist.frequencies.filterNot(_.item.startsWith(\"composites\")))\n",
    "\n"
   ]
  },
  {
   "cell_type": "code",
   "execution_count": null,
   "metadata": {},
   "outputs": [],
   "source": [
    "\n"
   ]
  },
  {
   "cell_type": "code",
   "execution_count": null,
   "metadata": {},
   "outputs": [],
   "source": [
    "def coverageForUnit(vocabUnit: Int): Vector[String] = {\n",
    "  val vocab = for (i <- 1 to vocabUnit) yield {\n",
    "    val lines = Source.fromURL(vocabFiles(i))\n",
    "    val lexemeIds = lines.getLines.toVector.tail.filter(_.nonEmpty).map( ln => {\n",
    "      val columns = ln.split(\"#\")\n",
    "      val idParts = columns.head.split(\":\")\n",
    "      idParts.head\n",
    "    })\n",
    "    lexemeIds\n",
    "  }\n",
    "  vocab.toVector.flatten\n",
    "}\n",
    "\n",
    "\n",
    "\n"
   ]
  },
  {
   "cell_type": "code",
   "execution_count": 19,
   "metadata": {},
   "outputs": [
    {
     "data": {
      "text/plain": [
       "\u001b[36mlewisShortBase\u001b[39m: \u001b[32mString\u001b[39m = \u001b[32m\"http://folio2.furman.edu/lewis-short/index.html?urn=urn:cite2:hmt:ls.markdown:\"\u001b[39m\n",
       "defined \u001b[32mfunction\u001b[39m \u001b[36mmissingVocab\u001b[39m"
      ]
     },
     "execution_count": 19,
     "metadata": {},
     "output_type": "execute_result"
    }
   ],
   "source": [
    "val lewisShortBase = \"http://folio2.furman.edu/lewis-short/index.html?urn=urn:cite2:hmt:ls.markdown:\"\n",
    "\n",
    "\n",
    "\n",
    "def missingVocab(pct: Int, vocabUnit: Int) = {\n",
    "  val vocabList = coverageForUnit(vocabUnit)\n",
    "  val topPct = lsLexemesHist.takePercent(pct)  \n",
    "  val notCovered = topPct.filterNot( freq => vocabList.contains(freq.item))\n",
    "  //val labelled = notCovered.map(f => Freq/uency(LewisShort.label(f.item), f.count))\n",
    "  val rows = notCovered.map(freq => {\n",
    "    val label = LewisShort.label(freq.item)\n",
    "    val url = lewisShortBase + label.replaceFirst(\"ls.\",\"\")\n",
    "    val link = \"<a href=\\\"\" + url + \"\\\">\"  + label + \"</a>\"\n",
    "    s\"<tr><td>${link}</td><td>${freq.count}</td></tr>\"    \n",
    "  })\n",
    "  val tableHead = \"<tr><th>ID:lemma</th><th>Occurrences</th></tr>\"\n",
    "  val header = \"<h2>Most frequent vocabulary <em>not</em> covered</h2>\"\n",
    "  val para = s\"<p>All vocabulary covering the top <strong>${pct}</strong>%\" +\n",
    "  \" of tokens in Hyginus but <strong>not</strong> covered in L3 vocabulary \" +\n",
    "  s\"lists <strong>through unit ${vocabUnit}</strong> \" +\n",
    "  s\"(<strong>${vocabList.size}</strong> vocabulary items).  \"\n",
    "  \"Identifiers are linked to Lewis-Short lexicon.</p>\"\n",
    "  \n",
    "  val tableSummary = s\"<h3>${rows.size} vocabulary items</h3>\"\n",
    "  \n",
    "  Html(header + para  + \"<table>\" + tableSummary + tableHead + rows.mkString(\"\\n\") + \"</table>\")\n",
    "}\n",
    "\n",
    "\n",
    "\n",
    "\n"
   ]
  }
 ],
 "metadata": {
  "kernelspec": {
   "display_name": "Scala (2.12)",
   "language": "scala",
   "name": "scala212"
  },
  "language_info": {
   "codemirror_mode": "text/x-scala",
   "file_extension": ".scala",
   "mimetype": "text/x-scala",
   "name": "scala",
   "nbconvert_exporter": "script",
   "version": "2.12.10"
  },
  "nteract": {
   "version": "0.24.0"
  }
 },
 "nbformat": 4,
 "nbformat_minor": 4
}
