{
 "cells": [
  {
   "cell_type": "markdown",
   "metadata": {},
   "source": [
    "# Sequencing topics in introductory Latin courses: 1/2\n",
    "\n",
    "## Frequency of verb moods in Hyginus\n",
    "\n",
    "This notebook is one of two showing how observations quoted in Daniel Libatique and Dominic Machado, \"*Lector Intende, Laetaberis*: A Research-Based Approach to Introductory Latin\" (currently in preparation) were computed. The two notebooks are:\n",
    "\n",
    "1. Frequency of moods of finite verbs in Hyginus (this noteook)\n",
    "2. Frequency of active and passive voice in Livy\n",
    "\n",
    "The code used here is also available in the `scripts` directory of [this github repository](https://github.com/lingualatina/analysis/). "
   ]
  },
  {
   "cell_type": "markdown",
   "metadata": {},
   "source": [
    "## Summary of conclusions\n",
    "\n",
    "- approximately 3/4 of finite verbs in Hyginus are in the indicative\n",
    "- approximately 1/4 are in the subjunctive\n",
    "- less than 1/2 of 1% of finite verb forms are in the imperative"
   ]
  },
  {
   "cell_type": "markdown",
   "metadata": {},
   "source": [
    "## 0. Configure Jupyter notebook to find code libraries\n",
    "\n",
    "Beginning with section **1**, all code is generic Scala you could also run in any environment that supports scala.  Specifically, you can use `sbt console` from the [Lingua Latina analysis github repository](https://github.com/lingualatina/analysis/) to run the same code.\n",
    "\n",
    "The following two cells configure this notebook to find code libraries we will use in analyzing a parsed text of Hyginus.\n"
   ]
  },
  {
   "cell_type": "code",
   "execution_count": null,
   "metadata": {},
   "outputs": [],
   "source": [
    "// set up notebook to find repository\n",
    "val personalRepo = coursierapi.MavenRepository.of(\"https://dl.bintray.com/neelsmith/maven\")\n",
    "interp.repositories() ++= Seq(personalRepo)"
   ]
  },
  {
   "cell_type": "code",
   "execution_count": null,
   "metadata": {},
   "outputs": [],
   "source": [
    "// ivy imports\n",
    "import $ivy.`edu.holycross.shot::latincorpus:5.0.0`"
   ]
  },
  {
   "cell_type": "markdown",
   "metadata": {},
   "source": [
    "## 1. Load a parsed corpus\n",
    "\n",
    "We will load a  text of Hyginus that has been largely parsed morphologically.  Out of 27759 lexical tokens (\"words\"), more than 19,000 have been parsed: most of the unparsed terms are proper names that are not in our current morphological lexicon.  Of those 19000+ terms, 3628 are finite verb forms.\n",
    "\n",
    "For measuring the relative frequency of finite verb moods, this sample is more than adequate.\n"
   ]
  },
  {
   "cell_type": "code",
   "execution_count": null,
   "metadata": {},
   "outputs": [],
   "source": [
    "import edu.holycross.shot.latincorpus._\n",
    "val hyginusUrl = \"https://raw.githubusercontent.com/LinguaLatina/analysis/master/data/hyginus/hyginus-latc.cex\"\n",
    "val hyginus = LatinCorpus.fromUrl(hyginusUrl)"
   ]
  },
  {
   "cell_type": "code",
   "execution_count": null,
   "metadata": {},
   "outputs": [],
   "source": [
    "println(\"Total tokens / lexical tokens / analyzed:\")\n",
    "println(hyginus.tokens.size + \" total tokens / \" + hyginus.lexicalTokens.size + \" lexical tokens / \" + hyginus.analyzed.size + \" morphologically analyzed\")\n",
    "\n",
    "println(\"\\nPossible forms / tokens analyzed\")\n",
    "println(hyginus.allAnalyses.size + \" / \" + hyginus.analyzed.size)\n",
    "\n",
    "println(\"\\nTokens analyzed / finite verb tokens\")\n",
    "println(hyginus.analyzed.size + \" tokens / \" + hyginus.verbs.size + \" finite verb tokens\")"
   ]
  },
  {
   "cell_type": "markdown",
   "metadata": {},
   "source": [
    "## 2. Isolate forms analyzed to a single mood\n",
    "\n",
    "Some finite verb forms could be analyzed as forms of more than one mood:  in Hyginus, these make up fewer than 10% of finite verb tokens.  We'll use the remaining 3327 finite verb forms to compute the frequency of each mood."
   ]
  },
  {
   "cell_type": "code",
   "execution_count": null,
   "metadata": {},
   "outputs": [],
   "source": [
    "import edu.holycross.shot.tabulae._\n",
    "// True if all analyses are in the same mood\n",
    "def uniformMood(analyses: Vector[LemmatizedForm]): Boolean = {\n",
    "  val distinctMoods = analyses.map(a => a.verbMood).distinct\n",
    "  distinctMoods.size == 1\n",
    "}\n",
    "\n",
    "val pureMood = hyginus.verbs.filter(tkn => uniformMood(tkn.analyses))\n",
    "val mixedMood = hyginus.verbs.filterNot(tkn => uniformMood(tkn.analyses))\n",
    "\n",
    "println(\"Single mood / Multiple moods\")\n",
    "println(pureMood.size + \" / \" + mixedMood.size)"
   ]
  },
  {
   "cell_type": "markdown",
   "metadata": {},
   "source": [
    "# 3. Compute frequency of each mood\n",
    "\n",
    "The following cell extracts the mood value from each token analyzed to a single mood, groups the results by mood, and counts the size of each group.\n",
    "\n",
    "It then does a little arithmetic formatting to display the percentages of each mood, rounded to an integer.\n"
   ]
  },
  {
   "cell_type": "code",
   "execution_count": null,
   "metadata": {},
   "outputs": [],
   "source": [
    "val moods = pureMood.map(tkn => tkn.analyses.head.verbMood.get)\n",
    "val groupedByMood = moods.groupBy(mood => mood)\n",
    "val frequencies = groupedByMood.toVector.map{ case (k,v) => (k, v.size) }\n",
    "\n",
    "\n",
    "\n",
    "\n",
    "\n",
    "///println(percents.map{ case (mood, count) => mood + \": \" + count }.mkString(\"\\n\"))\n"
   ]
  },
  {
   "cell_type": "markdown",
   "metadata": {},
   "source": [
    "### QED"
   ]
  },
  {
   "cell_type": "code",
   "execution_count": null,
   "metadata": {},
   "outputs": [],
   "source": [
    "val total = frequencies.map(_._2).sum.toDouble\n",
    "val percents = frequencies.map(f => (f._1, ((f._2 / total) * 100).toInt)).sortBy(pct => pct._2).reverse\n",
    "println(percents.map{ case (mood, pct) => mood + \": \" + pct  + \"%\"}.mkString(\"\\n\"))"
   ]
  }
 ],
 "metadata": {
  "kernelspec": {
   "display_name": "Scala (2.12)",
   "language": "scala",
   "name": "scala212"
  },
  "language_info": {
   "codemirror_mode": "text/x-scala",
   "file_extension": ".scala",
   "mimetype": "text/x-scala",
   "name": "scala",
   "nbconvert_exporter": "script",
   "version": "2.12.10"
  }
 },
 "nbformat": 4,
 "nbformat_minor": 4
}
