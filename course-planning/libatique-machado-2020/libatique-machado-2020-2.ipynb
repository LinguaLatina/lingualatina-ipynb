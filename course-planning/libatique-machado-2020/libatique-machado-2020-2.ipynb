{
 "cells": [
  {
   "cell_type": "markdown",
   "metadata": {},
   "source": [
    "# Sequencing topics in introductory Latin courses: 1/2\n",
    "\n",
    "## Frequency of voice in Livy\n",
    "\n",
    "This notebook is one of two showing how observations quoted in Daniel Libatique and Dominic Machado, \"*Lector Intende, Laetaberis*: A Research-Based Approach to Introductory Latin\" (currently in preparation) were computed. The two notebooks are:\n",
    "\n",
    "1. Frequency of moods of finite verbs in Hyginus \n",
    "2. Frequency of active and passive voice in Livy (this noteook)\n",
    "\n",
    "The code used here is also available in the `scripts` directory of [this github repository](https://github.com/lingualatina/analysis/). "
   ]
  },
  {
   "cell_type": "markdown",
   "metadata": {},
   "source": [
    "## 0. Configure notebook to find code libraries\n",
    "\n",
    "Beginning with section **1**, all code is generic Scala you could run in any environment that supports scala.\n"
   ]
  },
  {
   "cell_type": "code",
   "execution_count": null,
   "metadata": {},
   "outputs": [],
   "source": [
    "// set up notebook to find repository\n",
    "val personalRepo = coursierapi.MavenRepository.of(\"https://dl.bintray.com/neelsmith/maven\")\n",
    "interp.repositories() ++= Seq(personalRepo)"
   ]
  },
  {
   "cell_type": "code",
   "execution_count": null,
   "metadata": {},
   "outputs": [],
   "source": [
    "// ivy imports\n",
    "import $ivy.`edu.holycross.shot::latincorpus:5.0.0`"
   ]
  },
  {
   "cell_type": "markdown",
   "metadata": {},
   "source": [
    "## 1. Load parsed corpus\n",
    "\n",
    "In this notebook, we'll need to use a selection from Livy, since mybinder limits the amount of memory we can use.  "
   ]
  },
  {
   "cell_type": "code",
   "execution_count": null,
   "metadata": {},
   "outputs": [],
   "source": [
    "import edu.holycross.shot.latincorpus._\n",
    "// This is all of Livy, but it will a Jupyter notebook running on mybinder\n",
    "//val livyUrl = \"http://shot.holycross.edu/lingualatina/data/livy-latc.cex\"\n",
    "//val livy = LatinCorpus.fromUrl(livyUrl)\n"
   ]
  }
 ],
 "metadata": {
  "kernelspec": {
   "display_name": "Scala (2.12)",
   "language": "scala",
   "name": "scala212"
  },
  "language_info": {
   "codemirror_mode": "text/x-scala",
   "file_extension": ".scala",
   "mimetype": "text/x-scala",
   "name": "scala",
   "nbconvert_exporter": "script",
   "version": "2.12.10"
  }
 },
 "nbformat": 4,
 "nbformat_minor": 4
}
