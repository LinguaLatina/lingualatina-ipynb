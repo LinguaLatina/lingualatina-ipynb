{
 "cells": [
  {
   "cell_type": "markdown",
   "metadata": {},
   "source": [
    "# Lexical search of Pliny, *Epistulae*\n",
    "\n",
    "> *Add link here to all the caveats...*\n",
    "\n",
    "\n",
    "### How to use this notebook\n",
    "\n",
    "1. First, run step 1 (e.g., by selecting the cell labelled **Step 1: load everything** and choosing \"Run all below\" from the \"Cell\" menu).  This will be slow, and your mileage may vary depending on how well your connection to different resources on the internet happens to be performing just then.\n",
    "2. Just below the cell labelled **Step 2: search by example**, fill in between quotation marks an argument to the function `moreLikeThis`.  E.g., to find all forms of `duco` in Pliny, you could edit that cell to read\n",
    "\n",
    "    `moreLikeThis(\"duxit\")`\n",
    "\n",
    "Then run the cell (e.g., by selecting it, and choosing \"Run cells\" from the \"Cell\" menu)."
   ]
  },
  {
   "cell_type": "markdown",
   "metadata": {},
   "source": [
    "# Step 2: search by example"
   ]
  },
  {
   "cell_type": "code",
   "execution_count": null,
   "metadata": {},
   "outputs": [],
   "source": [
    "moreLikeThis(\"duxit\")"
   ]
  },
  {
   "cell_type": "markdown",
   "metadata": {},
   "source": [
    "# Step 1: load everything\n"
   ]
  },
  {
   "cell_type": "code",
   "execution_count": null,
   "metadata": {},
   "outputs": [],
   "source": [
    "// set up notebook to find repository\n",
    "val personalRepo = coursierapi.MavenRepository.of(\"https://dl.bintray.com/neelsmith/maven\")\n",
    "interp.repositories() ++= Seq(personalRepo)"
   ]
  },
  {
   "cell_type": "code",
   "execution_count": null,
   "metadata": {},
   "outputs": [],
   "source": [
    "// ivy imports\n",
    "import $ivy.`edu.holycross.shot::latincorpus:7.0.0-pr3`"
   ]
  },
  {
   "cell_type": "code",
   "execution_count": null,
   "metadata": {},
   "outputs": [],
   "source": [
    "import edu.holycross.shot.latincorpus._"
   ]
  },
  {
   "cell_type": "code",
   "execution_count": null,
   "metadata": {},
   "outputs": [],
   "source": [
    "val textUrl = \"https://raw.githubusercontent.com/LinguaLatina/analysis/master/data/pliny/pliny-latc.cex\"\n",
    "val text = LatinCorpus.fromUrl(textUrl)\n",
    "\n"
   ]
  },
  {
   "cell_type": "code",
   "execution_count": null,
   "metadata": {},
   "outputs": [],
   "source": [
    "val lewisShortBase = \"http://folio2.furman.edu/lewis-short/index.html?urn=urn:cite2:hmt:ls.markdown:\"\n",
    "\n",
    "def moreLikeThis(s: String) = {\n",
    "    try {\n",
    "        val lexemes = text.tokenLexemeIndex(s)     \n",
    "        val labelledLexemes = text.tokenLabelledLexemeIndex(s)  \n",
    "        val heading = s\"<h2><em>${s}</em> matched ${labelledLexemes.size} lexeme(s): \" + labelledLexemes.mkString(\", \") + \"</h2>\"\n",
    "        \n",
    "        val htmlBody = for (lex <- lexemes) yield{        \n",
    "          val lsId = lex.replaceFirst(\"ls.\", \"\")\n",
    "          val lsUrl =lewisShortBase + lsId\n",
    "          val cns = text.citableUnits.sequences.filter( cn => cn.matchesLexeme(lex))\n",
    "          val para = \"<p>For \" + lex + \", matched <strong>\" + cns.size + \"</strong> citable passages.</p>\" \n",
    "          val xref = \"<p> See <a href=\\\"\" + lsUrl + \"\\\">Lewis-Short entry</a></p>\"\n",
    "          \n",
    "          val bullets = for ((cn) <- cns) yield {\n",
    "            val txt = cn.lexicalText.mkString(\" \")\n",
    "            s\"<li>${txt}</li>\"\n",
    "          }\n",
    "          para + xref + \"<ol>\" + bullets.mkString(\"\\n\") + \"</ol>\"     \n",
    "        }\n",
    "        Html(heading + htmlBody.mkString(\"<br/>\"))\n",
    "        \n",
    "        \n",
    "    } catch {\n",
    "        case nope: java.util.NoSuchElementException => {\n",
    "            Html(\"<p><em>\" + s + \"</em> does not occur in Pliny's letters.  Please check the form, and try again.</p>\")\n",
    "        }    \n",
    "        \n",
    "        \n",
    "    }\n",
    "\n",
    "}"
   ]
  },
  {
   "cell_type": "code",
   "execution_count": null,
   "metadata": {},
   "outputs": [],
   "source": []
  }
 ],
 "metadata": {
  "kernelspec": {
   "display_name": "Scala (2.12)",
   "language": "scala",
   "name": "scala212"
  },
  "language_info": {
   "codemirror_mode": "text/x-scala",
   "file_extension": ".scala",
   "mimetype": "text/x-scala",
   "name": "scala",
   "nbconvert_exporter": "script",
   "version": "2.12.10"
  },
  "nteract": {
   "version": "0.24.0"
  }
 },
 "nbformat": 4,
 "nbformat_minor": 4
}
