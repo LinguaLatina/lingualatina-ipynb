{
 "cells": [
  {
   "cell_type": "markdown",
   "metadata": {},
   "source": [
    "# Hyginus, *Fabulae*: token frequency"
   ]
  },
  {
   "cell_type": "code",
   "execution_count": null,
   "metadata": {},
   "outputs": [],
   "source": [
    "// set up notebook to find repository\n",
    "val personalRepo = coursierapi.MavenRepository.of(\"https://dl.bintray.com/neelsmith/maven\")\n",
    "interp.repositories() ++= Seq(personalRepo)"
   ]
  },
  {
   "cell_type": "code",
   "execution_count": null,
   "metadata": {},
   "outputs": [],
   "source": [
    "// ivy imports\n",
    "import $ivy.`edu.holycross.shot::ohco2:10.20.4`\n",
    "import $ivy.`edu.holycross.shot.mid::orthography:2.1.0`\n",
    "import $ivy.`edu.holycross.shot::latphone:3.0.0`\n"
   ]
  },
  {
   "cell_type": "code",
   "execution_count": null,
   "metadata": {},
   "outputs": [],
   "source": [
    "import edu.holycross.shot.ohco2._\n",
    "import edu.holycross.shot.mid.orthography._\n",
    "import edu.holycross.shot.latin._"
   ]
  },
  {
   "cell_type": "code",
   "execution_count": null,
   "metadata": {},
   "outputs": [],
   "source": [
    "val url = \"https://raw.githubusercontent.com/LinguaLatina/texts/master/texts/latin24/pliny-letters.cex\"\n",
    "val corpus = CorpusSource.fromUrl(url, cexHeader = true)"
   ]
  },
  {
   "cell_type": "code",
   "execution_count": null,
   "metadata": {},
   "outputs": [],
   "source": [
    "val tokenizable = TokenizableCorpus(corpus, Latin24Alphabet)"
   ]
  },
  {
   "cell_type": "code",
   "execution_count": null,
   "metadata": {},
   "outputs": [],
   "source": [
    "// How many lexical tokens?\n",
    "println(\"Total tokens: \" + tokenizable.lexicalTokens.size)\n",
    "// How many distinct tokens?\n",
    "println(\"Distinct forms: \" + tokenizable.lexicalTokens.map(t => t.text.toLowerCase).distinct.size)"
   ]
  }
 ],
 "metadata": {
  "kernelspec": {
   "display_name": "Scala (2.12)",
   "language": "scala",
   "name": "scala212"
  },
  "language_info": {
   "codemirror_mode": "text/x-scala",
   "file_extension": ".scala",
   "mimetype": "text/x-scala",
   "name": "scala",
   "nbconvert_exporter": "script",
   "version": "2.12.10"
  }
 },
 "nbformat": 4,
 "nbformat_minor": 4
}
