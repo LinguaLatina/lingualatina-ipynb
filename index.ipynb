{
 "cells": [
  {
   "cell_type": "markdown",
   "metadata": {},
   "source": [
    "# *Lingua Latina*: Jupyter notebooks\n",
    "\n",
    "The notebooks in this repository use  [almond](https://almond.sh/), a Scala kernel for Jupyter.\n",
    "\n",
    "\n",
    "## Standard analyses by text\n",
    "\n",
    "### Hyginus\n",
    "\n",
    "- analysis of character usage\n",
    "- [frequencies of classified tokens](hyginus/token-frequency.ipynb)\n",
    "- lemmatized corpus\n",
    "- standard corpus metrics\n",
    "\n",
    "### Pliny the Younger\n",
    "\n",
    "- analysis of character usage\n",
    "- frequencies of classified tokens\n",
    "- lemmatized corpus\n",
    "- standard corpus metrics\n",
    "\n",
    "### Livy\n",
    "\n",
    "- analysis of character usage\n",
    "- frequencies of classified tokens\n",
    "- lemmatized corpus\n",
    "- standard corpus metrics"
   ]
  }
 ],
 "metadata": {
  "kernelspec": {
   "display_name": "Scala (2.12)",
   "language": "scala",
   "name": "scala212"
  },
  "language_info": {
   "codemirror_mode": "text/x-scala",
   "file_extension": ".scala",
   "mimetype": "text/x-scala",
   "name": "scala",
   "nbconvert_exporter": "script",
   "version": "2.12.10"
  }
 },
 "nbformat": 4,
 "nbformat_minor": 4
}
