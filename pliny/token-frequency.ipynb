{
  "cells": [
    {
      "cell_type": "markdown",
      "source": [
        "# Pliny, *Epistulae*: token frequency"
      ],
      "metadata": {}
    },
    {
      "cell_type": "code",
      "source": [
        "// set up notebook to find repository\n",
        "val personalRepo = coursierapi.MavenRepository.of(\"https://dl.bintray.com/neelsmith/maven\")\n",
        "interp.repositories() ++= Seq(personalRepo)"
      ],
      "outputs": [],
      "execution_count": null,
      "metadata": {}
    },
    {
      "cell_type": "code",
      "source": [
        "// ivy imports\n",
        "import $ivy.`edu.holycross.shot::ohco2:10.20.4`\n",
        "import $ivy.`edu.holycross.shot.mid::orthography:2.1.0`\n",
        "import $ivy.`edu.holycross.shot::latphone:3.0.0`\n"
      ],
      "outputs": [],
      "execution_count": null,
      "metadata": {}
    },
    {
      "cell_type": "code",
      "source": [
        "import edu.holycross.shot.ohco2._\n",
        "import edu.holycross.shot.mid.orthography._\n",
        "import edu.holycross.shot.latin._"
      ],
      "outputs": [],
      "execution_count": null,
      "metadata": {}
    },
    {
      "cell_type": "code",
      "source": [
        "val url = \"https://raw.githubusercontent.com/LinguaLatina/texts/master/texts/latin24/pliny-letters.cex\"\n",
        "val corpus = CorpusSource.fromUrl(url, cexHeader = true)"
      ],
      "outputs": [],
      "execution_count": null,
      "metadata": {}
    },
    {
      "cell_type": "code",
      "source": [
        "val tokenizable = TokenizableCorpus(corpus, Latin24Alphabet)"
      ],
      "outputs": [],
      "execution_count": null,
      "metadata": {}
    },
    {
      "cell_type": "code",
      "source": [
        "// How many lexical tokens?\n",
        "println(\"Total tokens: \" + tokenizable.lexicalTokens.size)\n",
        "// How many distinct tokens?\n",
        "println(\"Distinct forms: \" + tokenizable.lexicalTokens.map(t => t.text.toLowerCase).distinct.size)"
      ],
      "outputs": [],
      "execution_count": null,
      "metadata": {}
    }
  ],
  "metadata": {
    "kernelspec": {
      "display_name": "Scala (2.12)",
      "language": "scala",
      "name": "scala212"
    },
    "language_info": {
      "codemirror_mode": "text/x-scala",
      "file_extension": ".scala",
      "mimetype": "text/x-scala",
      "name": "scala",
      "nbconvert_exporter": "script",
      "version": "2.12.10"
    },
    "nteract": {
      "version": "0.24.0"
    }
  },
  "nbformat": 4,
  "nbformat_minor": 4
}